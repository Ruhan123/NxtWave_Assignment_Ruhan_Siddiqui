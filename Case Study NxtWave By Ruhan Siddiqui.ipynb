{
 "cells": [
  {
   "cell_type": "markdown",
   "id": "25678c2a",
   "metadata": {},
   "source": [
    "# Submitted By Ruhan Siddiqui\n",
    "# Here df1  for  leads_basic_details dataset \n",
    "# Here df2 for leads_demo_watched_details\n",
    "# Here df2 for leads_interaction_details\n",
    "# Here df4 for leads_reasons_for_no_interest\n",
    "# Here df5 for sales_managers_assigned_leads_details\n"
   ]
  },
  {
   "cell_type": "markdown",
   "id": "41d4fdba",
   "metadata": {},
   "source": [
    "# Start Here For leads_basic_details part"
   ]
  },
  {
   "cell_type": "code",
   "execution_count": 167,
   "id": "7b67ef3d",
   "metadata": {},
   "outputs": [
    {
     "data": {
      "text/html": [
       "<div>\n",
       "<style scoped>\n",
       "    .dataframe tbody tr th:only-of-type {\n",
       "        vertical-align: middle;\n",
       "    }\n",
       "\n",
       "    .dataframe tbody tr th {\n",
       "        vertical-align: top;\n",
       "    }\n",
       "\n",
       "    .dataframe thead th {\n",
       "        text-align: right;\n",
       "    }\n",
       "</style>\n",
       "<table border=\"1\" class=\"dataframe\">\n",
       "  <thead>\n",
       "    <tr style=\"text-align: right;\">\n",
       "      <th></th>\n",
       "      <th>lead_id</th>\n",
       "      <th>age</th>\n",
       "      <th>gender</th>\n",
       "      <th>current_city</th>\n",
       "      <th>current_education</th>\n",
       "      <th>parent_occupation</th>\n",
       "      <th>lead_gen_source</th>\n",
       "    </tr>\n",
       "  </thead>\n",
       "  <tbody>\n",
       "    <tr>\n",
       "      <th>0</th>\n",
       "      <td>USR1001</td>\n",
       "      <td>16</td>\n",
       "      <td>FEMALE</td>\n",
       "      <td>Hyderabad</td>\n",
       "      <td>Intermediate</td>\n",
       "      <td>Private Employee</td>\n",
       "      <td>social_media</td>\n",
       "    </tr>\n",
       "    <tr>\n",
       "      <th>1</th>\n",
       "      <td>USR1002</td>\n",
       "      <td>20</td>\n",
       "      <td>MALE</td>\n",
       "      <td>Bengaluru</td>\n",
       "      <td>B.Tech</td>\n",
       "      <td>Business</td>\n",
       "      <td>user_referrals</td>\n",
       "    </tr>\n",
       "    <tr>\n",
       "      <th>2</th>\n",
       "      <td>USR1003</td>\n",
       "      <td>20</td>\n",
       "      <td>FEMALE</td>\n",
       "      <td>Visakhapatnam</td>\n",
       "      <td>B.Tech</td>\n",
       "      <td>Lawyer</td>\n",
       "      <td>user_referrals</td>\n",
       "    </tr>\n",
       "    <tr>\n",
       "      <th>3</th>\n",
       "      <td>USR1004</td>\n",
       "      <td>16</td>\n",
       "      <td>MALE</td>\n",
       "      <td>Mumbai</td>\n",
       "      <td>Intermediate</td>\n",
       "      <td>IT Employee</td>\n",
       "      <td>user_referrals</td>\n",
       "    </tr>\n",
       "    <tr>\n",
       "      <th>4</th>\n",
       "      <td>USR1005</td>\n",
       "      <td>16</td>\n",
       "      <td>MALE</td>\n",
       "      <td>Chennai</td>\n",
       "      <td>Intermediate</td>\n",
       "      <td>Government Employee</td>\n",
       "      <td>user_referrals</td>\n",
       "    </tr>\n",
       "  </tbody>\n",
       "</table>\n",
       "</div>"
      ],
      "text/plain": [
       "   lead_id  age  gender   current_city current_education    parent_occupation  \\\n",
       "0  USR1001   16  FEMALE      Hyderabad      Intermediate     Private Employee   \n",
       "1  USR1002   20    MALE      Bengaluru            B.Tech             Business   \n",
       "2  USR1003   20  FEMALE  Visakhapatnam            B.Tech               Lawyer   \n",
       "3  USR1004   16    MALE         Mumbai      Intermediate          IT Employee   \n",
       "4  USR1005   16    MALE        Chennai      Intermediate  Government Employee   \n",
       "\n",
       "  lead_gen_source  \n",
       "0    social_media  \n",
       "1  user_referrals  \n",
       "2  user_referrals  \n",
       "3  user_referrals  \n",
       "4  user_referrals  "
      ]
     },
     "execution_count": 167,
     "metadata": {},
     "output_type": "execute_result"
    }
   ],
   "source": [
    "import pandas as pd \n",
    "import numpy as np\n",
    "from datetime import date,timedelta\n",
    "import seaborn as sns\n",
    "from matplotlib import pyplot as plt\n",
    "df1=pd.read_csv(\"C:\\\\Users\\\\Ruhan\\\\OneDrive - Careismatic Brands, Inc\\\\Documents\\\\archive (1)\\\\leads_basic_details.csv\")\n",
    "df1.head(5)"
   ]
  },
  {
   "cell_type": "markdown",
   "id": "5ad71341",
   "metadata": {},
   "source": [
    "# For finding missing values of all columns in dataset"
   ]
  },
  {
   "cell_type": "code",
   "execution_count": 31,
   "id": "1fcf85c3",
   "metadata": {
    "scrolled": true
   },
   "outputs": [
    {
     "data": {
      "text/plain": [
       "lead_id              0\n",
       "age                  0\n",
       "gender               0\n",
       "current_city         0\n",
       "current_education    0\n",
       "parent_occupation    0\n",
       "lead_gen_source      0\n",
       "dtype: int64"
      ]
     },
     "execution_count": 31,
     "metadata": {},
     "output_type": "execute_result"
    }
   ],
   "source": [
    "\n",
    "df1.isnull().sum()"
   ]
  },
  {
   "cell_type": "markdown",
   "id": "185d5d0c",
   "metadata": {},
   "source": [
    "#  for finding outlier\n",
    "#  here 211 and 116 values is outliers point  age column"
   ]
  },
  {
   "cell_type": "code",
   "execution_count": 26,
   "id": "0ee44520",
   "metadata": {},
   "outputs": [
    {
     "data": {
      "text/plain": [
       "array([ 16,  20,  21,  22,  25,  18,  24, 211, 116], dtype=int64)"
      ]
     },
     "execution_count": 26,
     "metadata": {},
     "output_type": "execute_result"
    }
   ],
   "source": [
    "\n",
    "df1['age'].unique()\n",
    "#outliers \n",
    "df1.query('age > 50')"
   ]
  },
  {
   "cell_type": "code",
   "execution_count": 32,
   "id": "cf28d9aa",
   "metadata": {},
   "outputs": [
    {
     "data": {
      "text/html": [
       "<div>\n",
       "<style scoped>\n",
       "    .dataframe tbody tr th:only-of-type {\n",
       "        vertical-align: middle;\n",
       "    }\n",
       "\n",
       "    .dataframe tbody tr th {\n",
       "        vertical-align: top;\n",
       "    }\n",
       "\n",
       "    .dataframe thead th {\n",
       "        text-align: right;\n",
       "    }\n",
       "</style>\n",
       "<table border=\"1\" class=\"dataframe\">\n",
       "  <thead>\n",
       "    <tr style=\"text-align: right;\">\n",
       "      <th></th>\n",
       "      <th>lead_id</th>\n",
       "      <th>age</th>\n",
       "      <th>gender</th>\n",
       "      <th>current_city</th>\n",
       "      <th>current_education</th>\n",
       "      <th>parent_occupation</th>\n",
       "      <th>lead_gen_source</th>\n",
       "    </tr>\n",
       "  </thead>\n",
       "  <tbody>\n",
       "    <tr>\n",
       "      <th>17</th>\n",
       "      <td>USR1018</td>\n",
       "      <td>211</td>\n",
       "      <td>MALE</td>\n",
       "      <td>Hyderabad</td>\n",
       "      <td>Degree</td>\n",
       "      <td>IT Employee</td>\n",
       "      <td>social_media</td>\n",
       "    </tr>\n",
       "    <tr>\n",
       "      <th>300</th>\n",
       "      <td>USR1301</td>\n",
       "      <td>116</td>\n",
       "      <td>FEMALE</td>\n",
       "      <td>Hyderabad</td>\n",
       "      <td>Intermediate</td>\n",
       "      <td>Private Employee</td>\n",
       "      <td>social_media</td>\n",
       "    </tr>\n",
       "  </tbody>\n",
       "</table>\n",
       "</div>"
      ],
      "text/plain": [
       "     lead_id  age  gender current_city current_education parent_occupation  \\\n",
       "17   USR1018  211    MALE    Hyderabad            Degree       IT Employee   \n",
       "300  USR1301  116  FEMALE    Hyderabad      Intermediate  Private Employee   \n",
       "\n",
       "    lead_gen_source  \n",
       "17     social_media  \n",
       "300    social_media  "
      ]
     },
     "execution_count": 32,
     "metadata": {},
     "output_type": "execute_result"
    }
   ],
   "source": [
    "#outliers \n",
    "df1.query('age > 50')"
   ]
  },
  {
   "cell_type": "code",
   "execution_count": 34,
   "id": "54ed37b4",
   "metadata": {},
   "outputs": [
    {
     "data": {
      "text/html": [
       "<div>\n",
       "<style scoped>\n",
       "    .dataframe tbody tr th:only-of-type {\n",
       "        vertical-align: middle;\n",
       "    }\n",
       "\n",
       "    .dataframe tbody tr th {\n",
       "        vertical-align: top;\n",
       "    }\n",
       "\n",
       "    .dataframe thead th {\n",
       "        text-align: right;\n",
       "    }\n",
       "</style>\n",
       "<table border=\"1\" class=\"dataframe\">\n",
       "  <thead>\n",
       "    <tr style=\"text-align: right;\">\n",
       "      <th></th>\n",
       "      <th>lead_id</th>\n",
       "      <th>age</th>\n",
       "      <th>gender</th>\n",
       "      <th>current_city</th>\n",
       "      <th>current_education</th>\n",
       "      <th>parent_occupation</th>\n",
       "      <th>lead_gen_source</th>\n",
       "    </tr>\n",
       "  </thead>\n",
       "  <tbody>\n",
       "    <tr>\n",
       "      <th>0</th>\n",
       "      <td>USR1001</td>\n",
       "      <td>16</td>\n",
       "      <td>FEMALE</td>\n",
       "      <td>Hyderabad</td>\n",
       "      <td>Intermediate</td>\n",
       "      <td>Private Employee</td>\n",
       "      <td>social_media</td>\n",
       "    </tr>\n",
       "    <tr>\n",
       "      <th>1</th>\n",
       "      <td>USR1002</td>\n",
       "      <td>20</td>\n",
       "      <td>MALE</td>\n",
       "      <td>Bengaluru</td>\n",
       "      <td>B.Tech</td>\n",
       "      <td>Business</td>\n",
       "      <td>user_referrals</td>\n",
       "    </tr>\n",
       "    <tr>\n",
       "      <th>2</th>\n",
       "      <td>USR1003</td>\n",
       "      <td>20</td>\n",
       "      <td>FEMALE</td>\n",
       "      <td>Visakhapatnam</td>\n",
       "      <td>B.Tech</td>\n",
       "      <td>Lawyer</td>\n",
       "      <td>user_referrals</td>\n",
       "    </tr>\n",
       "    <tr>\n",
       "      <th>3</th>\n",
       "      <td>USR1004</td>\n",
       "      <td>16</td>\n",
       "      <td>MALE</td>\n",
       "      <td>Mumbai</td>\n",
       "      <td>Intermediate</td>\n",
       "      <td>IT Employee</td>\n",
       "      <td>user_referrals</td>\n",
       "    </tr>\n",
       "    <tr>\n",
       "      <th>4</th>\n",
       "      <td>USR1005</td>\n",
       "      <td>16</td>\n",
       "      <td>MALE</td>\n",
       "      <td>Chennai</td>\n",
       "      <td>Intermediate</td>\n",
       "      <td>Government Employee</td>\n",
       "      <td>user_referrals</td>\n",
       "    </tr>\n",
       "    <tr>\n",
       "      <th>...</th>\n",
       "      <td>...</td>\n",
       "      <td>...</td>\n",
       "      <td>...</td>\n",
       "      <td>...</td>\n",
       "      <td>...</td>\n",
       "      <td>...</td>\n",
       "      <td>...</td>\n",
       "    </tr>\n",
       "    <tr>\n",
       "      <th>355</th>\n",
       "      <td>USR1356</td>\n",
       "      <td>21</td>\n",
       "      <td>MALE</td>\n",
       "      <td>Mumbai</td>\n",
       "      <td>Degree</td>\n",
       "      <td>Government Employee</td>\n",
       "      <td>user_referrals</td>\n",
       "    </tr>\n",
       "    <tr>\n",
       "      <th>356</th>\n",
       "      <td>USR1357</td>\n",
       "      <td>22</td>\n",
       "      <td>MALE</td>\n",
       "      <td>Chennai</td>\n",
       "      <td>Looking for Job</td>\n",
       "      <td>Government Employee</td>\n",
       "      <td>website</td>\n",
       "    </tr>\n",
       "    <tr>\n",
       "      <th>357</th>\n",
       "      <td>USR1358</td>\n",
       "      <td>25</td>\n",
       "      <td>MALE</td>\n",
       "      <td>Chennai</td>\n",
       "      <td>B.Tech</td>\n",
       "      <td>Government Employee</td>\n",
       "      <td>SEO</td>\n",
       "    </tr>\n",
       "    <tr>\n",
       "      <th>358</th>\n",
       "      <td>USR1359</td>\n",
       "      <td>18</td>\n",
       "      <td>FEMALE</td>\n",
       "      <td>Mumbai</td>\n",
       "      <td>B.Tech</td>\n",
       "      <td>Government Employee</td>\n",
       "      <td>email_marketing</td>\n",
       "    </tr>\n",
       "    <tr>\n",
       "      <th>359</th>\n",
       "      <td>USR1360</td>\n",
       "      <td>16</td>\n",
       "      <td>MALE</td>\n",
       "      <td>Mumbai</td>\n",
       "      <td>Intermediate</td>\n",
       "      <td>Government Employee</td>\n",
       "      <td>social_media</td>\n",
       "    </tr>\n",
       "  </tbody>\n",
       "</table>\n",
       "<p>358 rows × 7 columns</p>\n",
       "</div>"
      ],
      "text/plain": [
       "     lead_id  age  gender   current_city current_education  \\\n",
       "0    USR1001   16  FEMALE      Hyderabad      Intermediate   \n",
       "1    USR1002   20    MALE      Bengaluru            B.Tech   \n",
       "2    USR1003   20  FEMALE  Visakhapatnam            B.Tech   \n",
       "3    USR1004   16    MALE         Mumbai      Intermediate   \n",
       "4    USR1005   16    MALE        Chennai      Intermediate   \n",
       "..       ...  ...     ...            ...               ...   \n",
       "355  USR1356   21    MALE         Mumbai            Degree   \n",
       "356  USR1357   22    MALE        Chennai   Looking for Job   \n",
       "357  USR1358   25    MALE        Chennai            B.Tech   \n",
       "358  USR1359   18  FEMALE         Mumbai            B.Tech   \n",
       "359  USR1360   16    MALE         Mumbai      Intermediate   \n",
       "\n",
       "       parent_occupation  lead_gen_source  \n",
       "0       Private Employee     social_media  \n",
       "1               Business   user_referrals  \n",
       "2                 Lawyer   user_referrals  \n",
       "3            IT Employee   user_referrals  \n",
       "4    Government Employee   user_referrals  \n",
       "..                   ...              ...  \n",
       "355  Government Employee   user_referrals  \n",
       "356  Government Employee          website  \n",
       "357  Government Employee              SEO  \n",
       "358  Government Employee  email_marketing  \n",
       "359  Government Employee     social_media  \n",
       "\n",
       "[358 rows x 7 columns]"
      ]
     },
     "execution_count": 34,
     "metadata": {},
     "output_type": "execute_result"
    }
   ],
   "source": [
    "#Remove outliers \n",
    "df12=df1.query(\"age<=50\")\n",
    "df12"
   ]
  },
  {
   "cell_type": "markdown",
   "id": "27e0f482",
   "metadata": {},
   "source": [
    "# boxoplot is better way to detect outlier  and handle outliers"
   ]
  },
  {
   "cell_type": "code",
   "execution_count": 35,
   "id": "340fb36a",
   "metadata": {},
   "outputs": [
    {
     "data": {
      "text/plain": [
       "age    AxesSubplot(0.125,0.787927;0.352273x0.0920732)\n",
       "dtype: object"
      ]
     },
     "execution_count": 35,
     "metadata": {},
     "output_type": "execute_result"
    },
    {
     "data": {
      "image/png": "[encoded data removed]",
      "text/plain": [
       "<Figure size 1080x1440 with 14 Axes>"
      ]
     },
     "metadata": {
      "needs_background": "light"
     },
     "output_type": "display_data"
    }
   ],
   "source": [
    "\n",
    "df12.plot(kind=\"box\",subplots=True,layout=(7,2),figsize=(15,20))"
   ]
  },
  {
   "cell_type": "markdown",
   "id": "47394260",
   "metadata": {},
   "source": [
    "# find no of peoplee in gender wise with age and current education using pivot \n"
   ]
  },
  {
   "cell_type": "code",
   "execution_count": 38,
   "id": "e38300a3",
   "metadata": {
    "scrolled": false
   },
   "outputs": [
    {
     "data": {
      "text/html": [
       "<div>\n",
       "<style scoped>\n",
       "    .dataframe tbody tr th:only-of-type {\n",
       "        vertical-align: middle;\n",
       "    }\n",
       "\n",
       "    .dataframe tbody tr th {\n",
       "        vertical-align: top;\n",
       "    }\n",
       "\n",
       "    .dataframe thead th {\n",
       "        text-align: right;\n",
       "    }\n",
       "</style>\n",
       "<table border=\"1\" class=\"dataframe\">\n",
       "  <thead>\n",
       "    <tr style=\"text-align: right;\">\n",
       "      <th></th>\n",
       "      <th></th>\n",
       "      <th>age</th>\n",
       "    </tr>\n",
       "    <tr>\n",
       "      <th>gender</th>\n",
       "      <th>current_education</th>\n",
       "      <th></th>\n",
       "    </tr>\n",
       "  </thead>\n",
       "  <tbody>\n",
       "    <tr>\n",
       "      <th rowspan=\"6\" valign=\"top\">FEMALE</th>\n",
       "      <th>10th Completed</th>\n",
       "      <td>4</td>\n",
       "    </tr>\n",
       "    <tr>\n",
       "      <th>B.Tech</th>\n",
       "      <td>75</td>\n",
       "    </tr>\n",
       "    <tr>\n",
       "      <th>Degree</th>\n",
       "      <td>25</td>\n",
       "    </tr>\n",
       "    <tr>\n",
       "      <th>Intermediate</th>\n",
       "      <td>17</td>\n",
       "    </tr>\n",
       "    <tr>\n",
       "      <th>Intermediate Completed</th>\n",
       "      <td>3</td>\n",
       "    </tr>\n",
       "    <tr>\n",
       "      <th>Looking for Job</th>\n",
       "      <td>74</td>\n",
       "    </tr>\n",
       "    <tr>\n",
       "      <th rowspan=\"6\" valign=\"top\">MALE</th>\n",
       "      <th>10th Completed</th>\n",
       "      <td>4</td>\n",
       "    </tr>\n",
       "    <tr>\n",
       "      <th>B.Tech</th>\n",
       "      <td>64</td>\n",
       "    </tr>\n",
       "    <tr>\n",
       "      <th>Degree</th>\n",
       "      <td>17</td>\n",
       "    </tr>\n",
       "    <tr>\n",
       "      <th>Intermediate</th>\n",
       "      <td>23</td>\n",
       "    </tr>\n",
       "    <tr>\n",
       "      <th>Intermediate Completed</th>\n",
       "      <td>9</td>\n",
       "    </tr>\n",
       "    <tr>\n",
       "      <th>Looking for Job</th>\n",
       "      <td>43</td>\n",
       "    </tr>\n",
       "  </tbody>\n",
       "</table>\n",
       "</div>"
      ],
      "text/plain": [
       "                               age\n",
       "gender current_education          \n",
       "FEMALE 10th Completed            4\n",
       "       B.Tech                   75\n",
       "       Degree                   25\n",
       "       Intermediate             17\n",
       "       Intermediate Completed    3\n",
       "       Looking for Job          74\n",
       "MALE   10th Completed            4\n",
       "       B.Tech                   64\n",
       "       Degree                   17\n",
       "       Intermediate             23\n",
       "       Intermediate Completed    9\n",
       "       Looking for Job          43"
      ]
     },
     "execution_count": 38,
     "metadata": {},
     "output_type": "execute_result"
    }
   ],
   "source": [
    "# pivot table for meaningful summary of data\n",
    "pivot = df12.pivot_table(index =['gender', 'current_education'], \n",
    "                       values =['age'], aggfunc ='count')\n",
    "d=pd.DataFrame(pivot)\n",
    "d"
   ]
  },
  {
   "cell_type": "code",
   "execution_count": 45,
   "id": "7bf65888",
   "metadata": {},
   "outputs": [
    {
     "data": {
      "text/plain": [
       "B.Tech                    139\n",
       "Looking for Job           117\n",
       "Degree                     42\n",
       "Intermediate               40\n",
       "Intermediate Completed     12\n",
       "10th Completed              8\n",
       "Name: current_education, dtype: int64"
      ]
     },
     "execution_count": 45,
     "metadata": {},
     "output_type": "execute_result"
    }
   ],
   "source": [
    "#  count occurence of each category in current_education coulmns\n",
    "df12.current_education.value_counts()"
   ]
  },
  {
   "cell_type": "markdown",
   "id": "9e78e0b8",
   "metadata": {},
   "source": [
    "# find percentage of male and female contribution percentage in lead_gen source"
   ]
  },
  {
   "cell_type": "code",
   "execution_count": 49,
   "id": "31d2e856",
   "metadata": {},
   "outputs": [
    {
     "data": {
      "text/html": [
       "<div>\n",
       "<style scoped>\n",
       "    .dataframe tbody tr th:only-of-type {\n",
       "        vertical-align: middle;\n",
       "    }\n",
       "\n",
       "    .dataframe tbody tr th {\n",
       "        vertical-align: top;\n",
       "    }\n",
       "\n",
       "    .dataframe thead th {\n",
       "        text-align: right;\n",
       "    }\n",
       "</style>\n",
       "<table border=\"1\" class=\"dataframe\">\n",
       "  <thead>\n",
       "    <tr style=\"text-align: right;\">\n",
       "      <th></th>\n",
       "      <th>lead_gen_source</th>\n",
       "      <th>gender</th>\n",
       "      <th>perc</th>\n",
       "    </tr>\n",
       "  </thead>\n",
       "  <tbody>\n",
       "    <tr>\n",
       "      <th>0</th>\n",
       "      <td>SEO</td>\n",
       "      <td>MALE</td>\n",
       "      <td>0.520000</td>\n",
       "    </tr>\n",
       "    <tr>\n",
       "      <th>1</th>\n",
       "      <td>SEO</td>\n",
       "      <td>FEMALE</td>\n",
       "      <td>0.480000</td>\n",
       "    </tr>\n",
       "    <tr>\n",
       "      <th>2</th>\n",
       "      <td>email_marketing</td>\n",
       "      <td>FEMALE</td>\n",
       "      <td>0.520548</td>\n",
       "    </tr>\n",
       "    <tr>\n",
       "      <th>3</th>\n",
       "      <td>email_marketing</td>\n",
       "      <td>MALE</td>\n",
       "      <td>0.479452</td>\n",
       "    </tr>\n",
       "    <tr>\n",
       "      <th>4</th>\n",
       "      <td>social_media</td>\n",
       "      <td>FEMALE</td>\n",
       "      <td>0.705882</td>\n",
       "    </tr>\n",
       "    <tr>\n",
       "      <th>5</th>\n",
       "      <td>social_media</td>\n",
       "      <td>MALE</td>\n",
       "      <td>0.294118</td>\n",
       "    </tr>\n",
       "    <tr>\n",
       "      <th>6</th>\n",
       "      <td>user_referrals</td>\n",
       "      <td>MALE</td>\n",
       "      <td>0.515152</td>\n",
       "    </tr>\n",
       "    <tr>\n",
       "      <th>7</th>\n",
       "      <td>user_referrals</td>\n",
       "      <td>FEMALE</td>\n",
       "      <td>0.484848</td>\n",
       "    </tr>\n",
       "    <tr>\n",
       "      <th>8</th>\n",
       "      <td>website</td>\n",
       "      <td>FEMALE</td>\n",
       "      <td>0.542373</td>\n",
       "    </tr>\n",
       "    <tr>\n",
       "      <th>9</th>\n",
       "      <td>website</td>\n",
       "      <td>MALE</td>\n",
       "      <td>0.457627</td>\n",
       "    </tr>\n",
       "  </tbody>\n",
       "</table>\n",
       "</div>"
      ],
      "text/plain": [
       "   lead_gen_source  gender      perc\n",
       "0              SEO    MALE  0.520000\n",
       "1              SEO  FEMALE  0.480000\n",
       "2  email_marketing  FEMALE  0.520548\n",
       "3  email_marketing    MALE  0.479452\n",
       "4     social_media  FEMALE  0.705882\n",
       "5     social_media    MALE  0.294118\n",
       "6   user_referrals    MALE  0.515152\n",
       "7   user_referrals  FEMALE  0.484848\n",
       "8          website  FEMALE  0.542373\n",
       "9          website    MALE  0.457627"
      ]
     },
     "execution_count": 49,
     "metadata": {},
     "output_type": "execute_result"
    }
   ],
   "source": [
    "p = (df12.groupby('lead_gen_source')['gender']\n",
    "           .value_counts(normalize=True)\n",
    "           .reset_index(name='perc'))\n",
    "d1=pd.DataFrame(p)\n",
    "d1"
   ]
  },
  {
   "cell_type": "code",
   "execution_count": 50,
   "id": "1e796a3b",
   "metadata": {},
   "outputs": [
    {
     "data": {
      "text/plain": [
       "array(['Intermediate', 'B.Tech', 'Degree', 'Looking for Job',\n",
       "       '10th Completed', 'Intermediate Completed'], dtype=object)"
      ]
     },
     "execution_count": 50,
     "metadata": {},
     "output_type": "execute_result"
    }
   ],
   "source": [
    "# intermediate and intermediate completed is same so i want only intermediate\n",
    "df12.current_education.unique()"
   ]
  },
  {
   "cell_type": "code",
   "execution_count": 51,
   "id": "0633eabb",
   "metadata": {},
   "outputs": [
    {
     "name": "stderr",
     "output_type": "stream",
     "text": [
      "C:\\Users\\Ruhan\\AppData\\Local\\Temp\\ipykernel_760\\3118168466.py:1: SettingWithCopyWarning: \n",
      "A value is trying to be set on a copy of a slice from a DataFrame\n",
      "\n",
      "See the caveats in the documentation: https://pandas.pydata.org/pandas-docs/stable/user_guide/indexing.html#returning-a-view-versus-a-copy\n",
      "  df12.current_education.replace({'Intermediate Completed':'Intermediate'}, inplace=True)\n"
     ]
    },
    {
     "data": {
      "text/html": [
       "<div>\n",
       "<style scoped>\n",
       "    .dataframe tbody tr th:only-of-type {\n",
       "        vertical-align: middle;\n",
       "    }\n",
       "\n",
       "    .dataframe tbody tr th {\n",
       "        vertical-align: top;\n",
       "    }\n",
       "\n",
       "    .dataframe thead th {\n",
       "        text-align: right;\n",
       "    }\n",
       "</style>\n",
       "<table border=\"1\" class=\"dataframe\">\n",
       "  <thead>\n",
       "    <tr style=\"text-align: right;\">\n",
       "      <th></th>\n",
       "      <th>lead_id</th>\n",
       "      <th>age</th>\n",
       "      <th>gender</th>\n",
       "      <th>current_city</th>\n",
       "      <th>current_education</th>\n",
       "      <th>parent_occupation</th>\n",
       "      <th>lead_gen_source</th>\n",
       "    </tr>\n",
       "  </thead>\n",
       "  <tbody>\n",
       "    <tr>\n",
       "      <th>0</th>\n",
       "      <td>USR1001</td>\n",
       "      <td>16</td>\n",
       "      <td>FEMALE</td>\n",
       "      <td>Hyderabad</td>\n",
       "      <td>Intermediate</td>\n",
       "      <td>Private Employee</td>\n",
       "      <td>social_media</td>\n",
       "    </tr>\n",
       "    <tr>\n",
       "      <th>1</th>\n",
       "      <td>USR1002</td>\n",
       "      <td>20</td>\n",
       "      <td>MALE</td>\n",
       "      <td>Bengaluru</td>\n",
       "      <td>B.Tech</td>\n",
       "      <td>Business</td>\n",
       "      <td>user_referrals</td>\n",
       "    </tr>\n",
       "    <tr>\n",
       "      <th>2</th>\n",
       "      <td>USR1003</td>\n",
       "      <td>20</td>\n",
       "      <td>FEMALE</td>\n",
       "      <td>Visakhapatnam</td>\n",
       "      <td>B.Tech</td>\n",
       "      <td>Lawyer</td>\n",
       "      <td>user_referrals</td>\n",
       "    </tr>\n",
       "    <tr>\n",
       "      <th>3</th>\n",
       "      <td>USR1004</td>\n",
       "      <td>16</td>\n",
       "      <td>MALE</td>\n",
       "      <td>Mumbai</td>\n",
       "      <td>Intermediate</td>\n",
       "      <td>IT Employee</td>\n",
       "      <td>user_referrals</td>\n",
       "    </tr>\n",
       "    <tr>\n",
       "      <th>4</th>\n",
       "      <td>USR1005</td>\n",
       "      <td>16</td>\n",
       "      <td>MALE</td>\n",
       "      <td>Chennai</td>\n",
       "      <td>Intermediate</td>\n",
       "      <td>Government Employee</td>\n",
       "      <td>user_referrals</td>\n",
       "    </tr>\n",
       "    <tr>\n",
       "      <th>...</th>\n",
       "      <td>...</td>\n",
       "      <td>...</td>\n",
       "      <td>...</td>\n",
       "      <td>...</td>\n",
       "      <td>...</td>\n",
       "      <td>...</td>\n",
       "      <td>...</td>\n",
       "    </tr>\n",
       "    <tr>\n",
       "      <th>355</th>\n",
       "      <td>USR1356</td>\n",
       "      <td>21</td>\n",
       "      <td>MALE</td>\n",
       "      <td>Mumbai</td>\n",
       "      <td>Degree</td>\n",
       "      <td>Government Employee</td>\n",
       "      <td>user_referrals</td>\n",
       "    </tr>\n",
       "    <tr>\n",
       "      <th>356</th>\n",
       "      <td>USR1357</td>\n",
       "      <td>22</td>\n",
       "      <td>MALE</td>\n",
       "      <td>Chennai</td>\n",
       "      <td>Looking for Job</td>\n",
       "      <td>Government Employee</td>\n",
       "      <td>website</td>\n",
       "    </tr>\n",
       "    <tr>\n",
       "      <th>357</th>\n",
       "      <td>USR1358</td>\n",
       "      <td>25</td>\n",
       "      <td>MALE</td>\n",
       "      <td>Chennai</td>\n",
       "      <td>B.Tech</td>\n",
       "      <td>Government Employee</td>\n",
       "      <td>SEO</td>\n",
       "    </tr>\n",
       "    <tr>\n",
       "      <th>358</th>\n",
       "      <td>USR1359</td>\n",
       "      <td>18</td>\n",
       "      <td>FEMALE</td>\n",
       "      <td>Mumbai</td>\n",
       "      <td>B.Tech</td>\n",
       "      <td>Government Employee</td>\n",
       "      <td>email_marketing</td>\n",
       "    </tr>\n",
       "    <tr>\n",
       "      <th>359</th>\n",
       "      <td>USR1360</td>\n",
       "      <td>16</td>\n",
       "      <td>MALE</td>\n",
       "      <td>Mumbai</td>\n",
       "      <td>Intermediate</td>\n",
       "      <td>Government Employee</td>\n",
       "      <td>social_media</td>\n",
       "    </tr>\n",
       "  </tbody>\n",
       "</table>\n",
       "<p>358 rows × 7 columns</p>\n",
       "</div>"
      ],
      "text/plain": [
       "     lead_id  age  gender   current_city current_education  \\\n",
       "0    USR1001   16  FEMALE      Hyderabad      Intermediate   \n",
       "1    USR1002   20    MALE      Bengaluru            B.Tech   \n",
       "2    USR1003   20  FEMALE  Visakhapatnam            B.Tech   \n",
       "3    USR1004   16    MALE         Mumbai      Intermediate   \n",
       "4    USR1005   16    MALE        Chennai      Intermediate   \n",
       "..       ...  ...     ...            ...               ...   \n",
       "355  USR1356   21    MALE         Mumbai            Degree   \n",
       "356  USR1357   22    MALE        Chennai   Looking for Job   \n",
       "357  USR1358   25    MALE        Chennai            B.Tech   \n",
       "358  USR1359   18  FEMALE         Mumbai            B.Tech   \n",
       "359  USR1360   16    MALE         Mumbai      Intermediate   \n",
       "\n",
       "       parent_occupation  lead_gen_source  \n",
       "0       Private Employee     social_media  \n",
       "1               Business   user_referrals  \n",
       "2                 Lawyer   user_referrals  \n",
       "3            IT Employee   user_referrals  \n",
       "4    Government Employee   user_referrals  \n",
       "..                   ...              ...  \n",
       "355  Government Employee   user_referrals  \n",
       "356  Government Employee          website  \n",
       "357  Government Employee              SEO  \n",
       "358  Government Employee  email_marketing  \n",
       "359  Government Employee     social_media  \n",
       "\n",
       "[358 rows x 7 columns]"
      ]
     },
     "execution_count": 51,
     "metadata": {},
     "output_type": "execute_result"
    }
   ],
   "source": [
    "df12.current_education.replace({'Intermediate Completed':'Intermediate'}, inplace=True)\n",
    "df12"
   ]
  },
  {
   "cell_type": "code",
   "execution_count": 52,
   "id": "3ffeef53",
   "metadata": {},
   "outputs": [
    {
     "data": {
      "text/plain": [
       "array(['Intermediate', 'B.Tech', 'Degree', 'Looking for Job',\n",
       "       '10th Completed'], dtype=object)"
      ]
     },
     "execution_count": 52,
     "metadata": {},
     "output_type": "execute_result"
    }
   ],
   "source": [
    "df12.current_education.unique()"
   ]
  },
  {
   "cell_type": "markdown",
   "id": "b6c65347",
   "metadata": {},
   "source": [
    "#  lead By Current Education"
   ]
  },
  {
   "cell_type": "code",
   "execution_count": 53,
   "id": "6e121c2c",
   "metadata": {
    "scrolled": true
   },
   "outputs": [
    {
     "data": {
      "text/plain": [
       "<AxesSubplot:>"
      ]
     },
     "execution_count": 53,
     "metadata": {},
     "output_type": "execute_result"
    },
    {
     "data": {
      "image/png": "[encoded data removed]",
      "text/plain": [
       "<Figure size 432x288 with 1 Axes>"
      ]
     },
     "metadata": {},
     "output_type": "display_data"
    }
   ],
   "source": [
    "\n",
    "df12.groupby('current_education').size().plot(kind='pie', autopct='%.2f' ,ylabel='')"
   ]
  },
  {
   "cell_type": "markdown",
   "id": "de23c54e",
   "metadata": {},
   "source": [
    "# find lead by gen_source"
   ]
  },
  {
   "cell_type": "code",
   "execution_count": 59,
   "id": "fc9d6e32",
   "metadata": {},
   "outputs": [
    {
     "data": {
      "text/plain": [
       "<AxesSubplot:>"
      ]
     },
     "execution_count": 59,
     "metadata": {},
     "output_type": "execute_result"
    },
    {
     "data": {
      "image/png": "[encoded data removed]",
      "text/plain": [
       "<Figure size 432x288 with 1 Axes>"
      ]
     },
     "metadata": {},
     "output_type": "display_data"
    }
   ],
   "source": [
    "\n",
    "df12.groupby('lead_gen_source').size().plot(kind='pie', autopct='%.2f' ,ylabel='')"
   ]
  },
  {
   "cell_type": "markdown",
   "id": "26597a0f",
   "metadata": {},
   "source": [
    "# find lead by gender"
   ]
  },
  {
   "cell_type": "code",
   "execution_count": 70,
   "id": "2e7aa857",
   "metadata": {},
   "outputs": [
    {
     "data": {
      "text/plain": [
       "<AxesSubplot:>"
      ]
     },
     "execution_count": 70,
     "metadata": {},
     "output_type": "execute_result"
    },
    {
     "data": {
      "image/png": "[encoded data removed]",
      "text/plain": [
       "<Figure size 432x288 with 1 Axes>"
      ]
     },
     "metadata": {},
     "output_type": "display_data"
    }
   ],
   "source": [
    "# Defining colors for the pie chart\n",
    "#colors = ['pink', 'silver']\n",
    "df12.groupby('gender').size().plot(kind='pie', autopct='%.2f',ylabel='')"
   ]
  },
  {
   "cell_type": "code",
   "execution_count": 66,
   "id": "452f8d53",
   "metadata": {},
   "outputs": [
    {
     "data": {
      "image/png": "[encoded data removed]",
      "text/plain": [
       "<Figure size 432x288 with 1 Axes>"
      ]
     },
     "metadata": {
      "needs_background": "light"
     },
     "output_type": "display_data"
    }
   ],
   "source": [
    "plt.barh(df12.current_education,df12.age)\n",
    "# setting label of y-axis\n",
    "plt.xlabel(\"Age\")\n",
    "# setting label of x-axis\n",
    "plt.ylabel(\"Current Education\")\n",
    "plt.title(\"Age in Parent Current_Education\")\n",
    "plt.show()"
   ]
  },
  {
   "cell_type": "markdown",
   "id": "cd6301fb",
   "metadata": {},
   "source": [
    "#  Start Here For leads_demo_watched_details"
   ]
  },
  {
   "cell_type": "code",
   "execution_count": 68,
   "id": "6cc81946",
   "metadata": {},
   "outputs": [
    {
     "data": {
      "text/html": [
       "<div>\n",
       "<style scoped>\n",
       "    .dataframe tbody tr th:only-of-type {\n",
       "        vertical-align: middle;\n",
       "    }\n",
       "\n",
       "    .dataframe tbody tr th {\n",
       "        vertical-align: top;\n",
       "    }\n",
       "\n",
       "    .dataframe thead th {\n",
       "        text-align: right;\n",
       "    }\n",
       "</style>\n",
       "<table border=\"1\" class=\"dataframe\">\n",
       "  <thead>\n",
       "    <tr style=\"text-align: right;\">\n",
       "      <th></th>\n",
       "      <th>lead_id</th>\n",
       "      <th>demo_watched_date</th>\n",
       "      <th>language</th>\n",
       "      <th>watched_percentage</th>\n",
       "    </tr>\n",
       "  </thead>\n",
       "  <tbody>\n",
       "    <tr>\n",
       "      <th>0</th>\n",
       "      <td>USR1002</td>\n",
       "      <td>1/4/2022</td>\n",
       "      <td>Telugu</td>\n",
       "      <td>42</td>\n",
       "    </tr>\n",
       "    <tr>\n",
       "      <th>1</th>\n",
       "      <td>USR1003</td>\n",
       "      <td>1/7/2022</td>\n",
       "      <td>Telugu</td>\n",
       "      <td>81</td>\n",
       "    </tr>\n",
       "    <tr>\n",
       "      <th>2</th>\n",
       "      <td>USR1004</td>\n",
       "      <td>1/2/2022</td>\n",
       "      <td>Telugu</td>\n",
       "      <td>35</td>\n",
       "    </tr>\n",
       "    <tr>\n",
       "      <th>3</th>\n",
       "      <td>USR1005</td>\n",
       "      <td>1/3/2022</td>\n",
       "      <td>Hindi</td>\n",
       "      <td>38</td>\n",
       "    </tr>\n",
       "    <tr>\n",
       "      <th>4</th>\n",
       "      <td>USR1006</td>\n",
       "      <td>1/12/2022</td>\n",
       "      <td>Hindi</td>\n",
       "      <td>54</td>\n",
       "    </tr>\n",
       "  </tbody>\n",
       "</table>\n",
       "</div>"
      ],
      "text/plain": [
       "   lead_id demo_watched_date language  watched_percentage\n",
       "0  USR1002          1/4/2022   Telugu                  42\n",
       "1  USR1003          1/7/2022   Telugu                  81\n",
       "2  USR1004          1/2/2022   Telugu                  35\n",
       "3  USR1005          1/3/2022    Hindi                  38\n",
       "4  USR1006         1/12/2022    Hindi                  54"
      ]
     },
     "execution_count": 68,
     "metadata": {},
     "output_type": "execute_result"
    }
   ],
   "source": [
    "df2=pd.read_csv(\"C:\\\\Users\\\\Ruhan\\\\OneDrive - Careismatic Brands, Inc\\\\Documents\\\\archive (1)\\\\leads_demo_watched_details.csv\")\n",
    "df2.head(5)"
   ]
  },
  {
   "cell_type": "markdown",
   "id": "2f39aecc",
   "metadata": {},
   "source": [
    "# For finding missing values of all columns in dataset"
   ]
  },
  {
   "cell_type": "code",
   "execution_count": 69,
   "id": "4edcdcc3",
   "metadata": {},
   "outputs": [
    {
     "data": {
      "text/plain": [
       "lead_id               0\n",
       "demo_watched_date     0\n",
       "language              0\n",
       "watched_percentage    0\n",
       "dtype: int64"
      ]
     },
     "execution_count": 69,
     "metadata": {},
     "output_type": "execute_result"
    }
   ],
   "source": [
    "\n",
    "df2.isnull().sum()"
   ]
  },
  {
   "cell_type": "markdown",
   "id": "0d058ac4",
   "metadata": {},
   "source": [
    "#  for finding outlier\n",
    "#  here 233 and 510 values is outliers point  age column"
   ]
  },
  {
   "cell_type": "code",
   "execution_count": 72,
   "id": "9b28d457",
   "metadata": {},
   "outputs": [
    {
     "data": {
      "text/plain": [
       "array([ 42,  81,  35,  38,  54,  52,  41,  50,  48,  44,  46,  51,  47,\n",
       "        40,  36, 100,   5,  53,   8,  10,  11,  14,  17,  20,  23,  55,\n",
       "        73,  26,  29,  32,  56,  59,  62,  60,  65,  70,  74,  75,  68,\n",
       "        85,  71,  86,  87,  88,  89,   2,  90,  91,  92,  77,  80,  63,\n",
       "        83,  25,   3,   4,  30,  45,  64, 510,  37,  66,  67,  49,  57,\n",
       "        69,  61,  95,  15,  12,  13,  72,  19, 233,  27,  21,  16,  76,\n",
       "        18,  79,  78,  22,  24,  28,  82,  84], dtype=int64)"
      ]
     },
     "execution_count": 72,
     "metadata": {},
     "output_type": "execute_result"
    }
   ],
   "source": [
    "df2.watched_percentage.unique()"
   ]
  },
  {
   "cell_type": "markdown",
   "id": "f2d5f156",
   "metadata": {},
   "source": [
    "# For detecting outlier using boxplot"
   ]
  },
  {
   "cell_type": "code",
   "execution_count": 73,
   "id": "4457815b",
   "metadata": {},
   "outputs": [
    {
     "data": {
      "text/plain": [
       "watched_percentage    AxesSubplot(0.125,0.787927;0.352273x0.0920732)\n",
       "dtype: object"
      ]
     },
     "execution_count": 73,
     "metadata": {},
     "output_type": "execute_result"
    },
    {
     "data": {
      "image/png": "[encoded data removed]",
      "text/plain": [
       "<Figure size 1080x1440 with 14 Axes>"
      ]
     },
     "metadata": {
      "needs_background": "light"
     },
     "output_type": "display_data"
    }
   ],
   "source": [
    "df2.plot(kind=\"box\",subplots=True,layout=(7,2),figsize=(15,20))"
   ]
  },
  {
   "cell_type": "code",
   "execution_count": 76,
   "id": "aa2d8247",
   "metadata": {},
   "outputs": [
    {
     "data": {
      "text/html": [
       "<div>\n",
       "<style scoped>\n",
       "    .dataframe tbody tr th:only-of-type {\n",
       "        vertical-align: middle;\n",
       "    }\n",
       "\n",
       "    .dataframe tbody tr th {\n",
       "        vertical-align: top;\n",
       "    }\n",
       "\n",
       "    .dataframe thead th {\n",
       "        text-align: right;\n",
       "    }\n",
       "</style>\n",
       "<table border=\"1\" class=\"dataframe\">\n",
       "  <thead>\n",
       "    <tr style=\"text-align: right;\">\n",
       "      <th></th>\n",
       "      <th>lead_id</th>\n",
       "      <th>demo_watched_date</th>\n",
       "      <th>language</th>\n",
       "      <th>watched_percentage</th>\n",
       "    </tr>\n",
       "  </thead>\n",
       "  <tbody>\n",
       "    <tr>\n",
       "      <th>94</th>\n",
       "      <td>USR1138</td>\n",
       "      <td>2/20/2022</td>\n",
       "      <td>English</td>\n",
       "      <td>510</td>\n",
       "    </tr>\n",
       "    <tr>\n",
       "      <th>133</th>\n",
       "      <td>USR1213</td>\n",
       "      <td>1/20/2022</td>\n",
       "      <td>Telugu</td>\n",
       "      <td>233</td>\n",
       "    </tr>\n",
       "  </tbody>\n",
       "</table>\n",
       "</div>"
      ],
      "text/plain": [
       "     lead_id demo_watched_date language  watched_percentage\n",
       "94   USR1138         2/20/2022  English                 510\n",
       "133  USR1213         1/20/2022   Telugu                 233"
      ]
     },
     "execution_count": 76,
     "metadata": {},
     "output_type": "execute_result"
    }
   ],
   "source": [
    "#outliers \n",
    "df2.query('watched_percentage>100')"
   ]
  },
  {
   "cell_type": "code",
   "execution_count": 78,
   "id": "808daac3",
   "metadata": {},
   "outputs": [
    {
     "data": {
      "text/html": [
       "<div>\n",
       "<style scoped>\n",
       "    .dataframe tbody tr th:only-of-type {\n",
       "        vertical-align: middle;\n",
       "    }\n",
       "\n",
       "    .dataframe tbody tr th {\n",
       "        vertical-align: top;\n",
       "    }\n",
       "\n",
       "    .dataframe thead th {\n",
       "        text-align: right;\n",
       "    }\n",
       "</style>\n",
       "<table border=\"1\" class=\"dataframe\">\n",
       "  <thead>\n",
       "    <tr style=\"text-align: right;\">\n",
       "      <th></th>\n",
       "      <th>lead_id</th>\n",
       "      <th>demo_watched_date</th>\n",
       "      <th>language</th>\n",
       "      <th>watched_percentage</th>\n",
       "    </tr>\n",
       "  </thead>\n",
       "  <tbody>\n",
       "    <tr>\n",
       "      <th>0</th>\n",
       "      <td>USR1002</td>\n",
       "      <td>1/4/2022</td>\n",
       "      <td>Telugu</td>\n",
       "      <td>42</td>\n",
       "    </tr>\n",
       "    <tr>\n",
       "      <th>1</th>\n",
       "      <td>USR1003</td>\n",
       "      <td>1/7/2022</td>\n",
       "      <td>Telugu</td>\n",
       "      <td>81</td>\n",
       "    </tr>\n",
       "    <tr>\n",
       "      <th>2</th>\n",
       "      <td>USR1004</td>\n",
       "      <td>1/2/2022</td>\n",
       "      <td>Telugu</td>\n",
       "      <td>35</td>\n",
       "    </tr>\n",
       "    <tr>\n",
       "      <th>3</th>\n",
       "      <td>USR1005</td>\n",
       "      <td>1/3/2022</td>\n",
       "      <td>Hindi</td>\n",
       "      <td>38</td>\n",
       "    </tr>\n",
       "    <tr>\n",
       "      <th>4</th>\n",
       "      <td>USR1006</td>\n",
       "      <td>1/12/2022</td>\n",
       "      <td>Hindi</td>\n",
       "      <td>54</td>\n",
       "    </tr>\n",
       "    <tr>\n",
       "      <th>...</th>\n",
       "      <td>...</td>\n",
       "      <td>...</td>\n",
       "      <td>...</td>\n",
       "      <td>...</td>\n",
       "    </tr>\n",
       "    <tr>\n",
       "      <th>189</th>\n",
       "      <td>USR1317</td>\n",
       "      <td>2/25/2022</td>\n",
       "      <td>English</td>\n",
       "      <td>48</td>\n",
       "    </tr>\n",
       "    <tr>\n",
       "      <th>190</th>\n",
       "      <td>USR1318</td>\n",
       "      <td>2/25/2022</td>\n",
       "      <td>English</td>\n",
       "      <td>83</td>\n",
       "    </tr>\n",
       "    <tr>\n",
       "      <th>191</th>\n",
       "      <td>USR1319</td>\n",
       "      <td>2/28/2022</td>\n",
       "      <td>English</td>\n",
       "      <td>84</td>\n",
       "    </tr>\n",
       "    <tr>\n",
       "      <th>192</th>\n",
       "      <td>USR1343</td>\n",
       "      <td>1/25/2022</td>\n",
       "      <td>English</td>\n",
       "      <td>68</td>\n",
       "    </tr>\n",
       "    <tr>\n",
       "      <th>193</th>\n",
       "      <td>USR1348</td>\n",
       "      <td>2/27/2022</td>\n",
       "      <td>English</td>\n",
       "      <td>72</td>\n",
       "    </tr>\n",
       "  </tbody>\n",
       "</table>\n",
       "<p>192 rows × 4 columns</p>\n",
       "</div>"
      ],
      "text/plain": [
       "     lead_id demo_watched_date language  watched_percentage\n",
       "0    USR1002          1/4/2022   Telugu                  42\n",
       "1    USR1003          1/7/2022   Telugu                  81\n",
       "2    USR1004          1/2/2022   Telugu                  35\n",
       "3    USR1005          1/3/2022    Hindi                  38\n",
       "4    USR1006         1/12/2022    Hindi                  54\n",
       "..       ...               ...      ...                 ...\n",
       "189  USR1317         2/25/2022  English                  48\n",
       "190  USR1318         2/25/2022  English                  83\n",
       "191  USR1319         2/28/2022  English                  84\n",
       "192  USR1343         1/25/2022  English                  68\n",
       "193  USR1348         2/27/2022  English                  72\n",
       "\n",
       "[192 rows x 4 columns]"
      ]
     },
     "execution_count": 78,
     "metadata": {},
     "output_type": "execute_result"
    }
   ],
   "source": [
    "#Remove outliers \n",
    "df22=df2.query(\"watched_percentage<=100\")\n",
    "df22"
   ]
  },
  {
   "cell_type": "code",
   "execution_count": 80,
   "id": "38a30939",
   "metadata": {},
   "outputs": [
    {
     "data": {
      "text/plain": [
       "watched_percentage    AxesSubplot(0.125,0.787927;0.352273x0.0920732)\n",
       "dtype: object"
      ]
     },
     "execution_count": 80,
     "metadata": {},
     "output_type": "execute_result"
    },
    {
     "data": {
      "image/png": "[encoded data removed]",
      "text/plain": [
       "<Figure size 1080x1440 with 14 Axes>"
      ]
     },
     "metadata": {
      "needs_background": "light"
     },
     "output_type": "display_data"
    }
   ],
   "source": [
    "df22.plot(kind=\"box\",subplots=True,layout=(7,2),figsize=(15,20))"
   ]
  },
  {
   "cell_type": "code",
   "execution_count": 81,
   "id": "ff49c519",
   "metadata": {},
   "outputs": [
    {
     "data": {
      "text/plain": [
       "array(['Telugu', 'Hindi', 'English'], dtype=object)"
      ]
     },
     "execution_count": 81,
     "metadata": {},
     "output_type": "execute_result"
    }
   ],
   "source": [
    "df22['language'].unique()"
   ]
  },
  {
   "cell_type": "markdown",
   "id": "63ed1c17",
   "metadata": {},
   "source": [
    "# Here we can see most watch lead in English which approx 58% and local language Telugu which is 32% then Hindi is 11%."
   ]
  },
  {
   "cell_type": "code",
   "execution_count": 82,
   "id": "f68cfe07",
   "metadata": {},
   "outputs": [
    {
     "data": {
      "text/plain": [
       "Text(0.5, 1.0, 'Language ')"
      ]
     },
     "execution_count": 82,
     "metadata": {},
     "output_type": "execute_result"
    },
    {
     "data": {
      "image/png": "[encoded data removed]",
      "text/plain": [
       "<Figure size 432x288 with 1 Axes>"
      ]
     },
     "metadata": {},
     "output_type": "display_data"
    }
   ],
   "source": [
    "sort_lang = df22.groupby('language').size().plot(kind='pie', autopct='%.2f' ,ylabel='')\n",
    "plt.title('Language ')"
   ]
  },
  {
   "cell_type": "markdown",
   "id": "434857c6",
   "metadata": {},
   "source": [
    "# Merger Two data frame "
   ]
  },
  {
   "cell_type": "code",
   "execution_count": 85,
   "id": "d374b0d5",
   "metadata": {},
   "outputs": [
    {
     "data": {
      "text/html": [
       "<div>\n",
       "<style scoped>\n",
       "    .dataframe tbody tr th:only-of-type {\n",
       "        vertical-align: middle;\n",
       "    }\n",
       "\n",
       "    .dataframe tbody tr th {\n",
       "        vertical-align: top;\n",
       "    }\n",
       "\n",
       "    .dataframe thead th {\n",
       "        text-align: right;\n",
       "    }\n",
       "</style>\n",
       "<table border=\"1\" class=\"dataframe\">\n",
       "  <thead>\n",
       "    <tr style=\"text-align: right;\">\n",
       "      <th></th>\n",
       "      <th>lead_id</th>\n",
       "      <th>age</th>\n",
       "      <th>gender</th>\n",
       "      <th>current_city</th>\n",
       "      <th>current_education</th>\n",
       "      <th>parent_occupation</th>\n",
       "      <th>lead_gen_source</th>\n",
       "      <th>demo_watched_date</th>\n",
       "      <th>language</th>\n",
       "      <th>watched_percentage</th>\n",
       "    </tr>\n",
       "  </thead>\n",
       "  <tbody>\n",
       "    <tr>\n",
       "      <th>0</th>\n",
       "      <td>USR1002</td>\n",
       "      <td>20</td>\n",
       "      <td>MALE</td>\n",
       "      <td>Bengaluru</td>\n",
       "      <td>B.Tech</td>\n",
       "      <td>Business</td>\n",
       "      <td>user_referrals</td>\n",
       "      <td>1/4/2022</td>\n",
       "      <td>Telugu</td>\n",
       "      <td>42</td>\n",
       "    </tr>\n",
       "    <tr>\n",
       "      <th>1</th>\n",
       "      <td>USR1003</td>\n",
       "      <td>20</td>\n",
       "      <td>FEMALE</td>\n",
       "      <td>Visakhapatnam</td>\n",
       "      <td>B.Tech</td>\n",
       "      <td>Lawyer</td>\n",
       "      <td>user_referrals</td>\n",
       "      <td>1/7/2022</td>\n",
       "      <td>Telugu</td>\n",
       "      <td>81</td>\n",
       "    </tr>\n",
       "    <tr>\n",
       "      <th>2</th>\n",
       "      <td>USR1004</td>\n",
       "      <td>16</td>\n",
       "      <td>MALE</td>\n",
       "      <td>Mumbai</td>\n",
       "      <td>Intermediate</td>\n",
       "      <td>IT Employee</td>\n",
       "      <td>user_referrals</td>\n",
       "      <td>1/2/2022</td>\n",
       "      <td>Telugu</td>\n",
       "      <td>35</td>\n",
       "    </tr>\n",
       "    <tr>\n",
       "      <th>3</th>\n",
       "      <td>USR1005</td>\n",
       "      <td>16</td>\n",
       "      <td>MALE</td>\n",
       "      <td>Chennai</td>\n",
       "      <td>Intermediate</td>\n",
       "      <td>Government Employee</td>\n",
       "      <td>user_referrals</td>\n",
       "      <td>1/3/2022</td>\n",
       "      <td>Hindi</td>\n",
       "      <td>38</td>\n",
       "    </tr>\n",
       "    <tr>\n",
       "      <th>4</th>\n",
       "      <td>USR1006</td>\n",
       "      <td>16</td>\n",
       "      <td>MALE</td>\n",
       "      <td>Kochi</td>\n",
       "      <td>Intermediate</td>\n",
       "      <td>Doctor</td>\n",
       "      <td>user_referrals</td>\n",
       "      <td>1/12/2022</td>\n",
       "      <td>Hindi</td>\n",
       "      <td>54</td>\n",
       "    </tr>\n",
       "    <tr>\n",
       "      <th>...</th>\n",
       "      <td>...</td>\n",
       "      <td>...</td>\n",
       "      <td>...</td>\n",
       "      <td>...</td>\n",
       "      <td>...</td>\n",
       "      <td>...</td>\n",
       "      <td>...</td>\n",
       "      <td>...</td>\n",
       "      <td>...</td>\n",
       "      <td>...</td>\n",
       "    </tr>\n",
       "    <tr>\n",
       "      <th>186</th>\n",
       "      <td>USR1317</td>\n",
       "      <td>24</td>\n",
       "      <td>MALE</td>\n",
       "      <td>Mumbai</td>\n",
       "      <td>Looking for Job</td>\n",
       "      <td>Lawyer</td>\n",
       "      <td>social_media</td>\n",
       "      <td>2/25/2022</td>\n",
       "      <td>English</td>\n",
       "      <td>48</td>\n",
       "    </tr>\n",
       "    <tr>\n",
       "      <th>187</th>\n",
       "      <td>USR1318</td>\n",
       "      <td>21</td>\n",
       "      <td>MALE</td>\n",
       "      <td>Mumbai</td>\n",
       "      <td>Degree</td>\n",
       "      <td>IT Employee</td>\n",
       "      <td>email_marketing</td>\n",
       "      <td>2/25/2022</td>\n",
       "      <td>English</td>\n",
       "      <td>83</td>\n",
       "    </tr>\n",
       "    <tr>\n",
       "      <th>188</th>\n",
       "      <td>USR1319</td>\n",
       "      <td>22</td>\n",
       "      <td>FEMALE</td>\n",
       "      <td>Bengaluru</td>\n",
       "      <td>Looking for Job</td>\n",
       "      <td>Government Employee</td>\n",
       "      <td>email_marketing</td>\n",
       "      <td>2/28/2022</td>\n",
       "      <td>English</td>\n",
       "      <td>84</td>\n",
       "    </tr>\n",
       "    <tr>\n",
       "      <th>189</th>\n",
       "      <td>USR1343</td>\n",
       "      <td>24</td>\n",
       "      <td>FEMALE</td>\n",
       "      <td>Kochi</td>\n",
       "      <td>Looking for Job</td>\n",
       "      <td>IT Employee</td>\n",
       "      <td>social_media</td>\n",
       "      <td>1/25/2022</td>\n",
       "      <td>English</td>\n",
       "      <td>68</td>\n",
       "    </tr>\n",
       "    <tr>\n",
       "      <th>190</th>\n",
       "      <td>USR1348</td>\n",
       "      <td>16</td>\n",
       "      <td>FEMALE</td>\n",
       "      <td>Kochi</td>\n",
       "      <td>Intermediate</td>\n",
       "      <td>Business</td>\n",
       "      <td>social_media</td>\n",
       "      <td>2/27/2022</td>\n",
       "      <td>English</td>\n",
       "      <td>72</td>\n",
       "    </tr>\n",
       "  </tbody>\n",
       "</table>\n",
       "<p>191 rows × 10 columns</p>\n",
       "</div>"
      ],
      "text/plain": [
       "     lead_id  age  gender   current_city current_education  \\\n",
       "0    USR1002   20    MALE      Bengaluru            B.Tech   \n",
       "1    USR1003   20  FEMALE  Visakhapatnam            B.Tech   \n",
       "2    USR1004   16    MALE         Mumbai      Intermediate   \n",
       "3    USR1005   16    MALE        Chennai      Intermediate   \n",
       "4    USR1006   16    MALE          Kochi      Intermediate   \n",
       "..       ...  ...     ...            ...               ...   \n",
       "186  USR1317   24    MALE         Mumbai   Looking for Job   \n",
       "187  USR1318   21    MALE         Mumbai            Degree   \n",
       "188  USR1319   22  FEMALE      Bengaluru   Looking for Job   \n",
       "189  USR1343   24  FEMALE          Kochi   Looking for Job   \n",
       "190  USR1348   16  FEMALE          Kochi      Intermediate   \n",
       "\n",
       "       parent_occupation  lead_gen_source demo_watched_date language  \\\n",
       "0               Business   user_referrals          1/4/2022   Telugu   \n",
       "1                 Lawyer   user_referrals          1/7/2022   Telugu   \n",
       "2            IT Employee   user_referrals          1/2/2022   Telugu   \n",
       "3    Government Employee   user_referrals          1/3/2022    Hindi   \n",
       "4                 Doctor   user_referrals         1/12/2022    Hindi   \n",
       "..                   ...              ...               ...      ...   \n",
       "186               Lawyer     social_media         2/25/2022  English   \n",
       "187          IT Employee  email_marketing         2/25/2022  English   \n",
       "188  Government Employee  email_marketing         2/28/2022  English   \n",
       "189          IT Employee     social_media         1/25/2022  English   \n",
       "190             Business     social_media         2/27/2022  English   \n",
       "\n",
       "     watched_percentage  \n",
       "0                    42  \n",
       "1                    81  \n",
       "2                    35  \n",
       "3                    38  \n",
       "4                    54  \n",
       "..                  ...  \n",
       "186                  48  \n",
       "187                  83  \n",
       "188                  84  \n",
       "189                  68  \n",
       "190                  72  \n",
       "\n",
       "[191 rows x 10 columns]"
      ]
     },
     "execution_count": 85,
     "metadata": {},
     "output_type": "execute_result"
    }
   ],
   "source": [
    "df_merged = pd.merge(df12,df22, how='inner', on = 'lead_id')\n",
    "df_merged"
   ]
  },
  {
   "cell_type": "markdown",
   "id": "9d83cdd8",
   "metadata": {},
   "source": [
    "# find leads using  language and  gen_source"
   ]
  },
  {
   "cell_type": "code",
   "execution_count": 118,
   "id": "84b5cf68",
   "metadata": {},
   "outputs": [
    {
     "data": {
      "text/html": [
       "<div>\n",
       "<style scoped>\n",
       "    .dataframe tbody tr th:only-of-type {\n",
       "        vertical-align: middle;\n",
       "    }\n",
       "\n",
       "    .dataframe tbody tr th {\n",
       "        vertical-align: top;\n",
       "    }\n",
       "\n",
       "    .dataframe thead th {\n",
       "        text-align: right;\n",
       "    }\n",
       "</style>\n",
       "<table border=\"1\" class=\"dataframe\">\n",
       "  <thead>\n",
       "    <tr style=\"text-align: right;\">\n",
       "      <th></th>\n",
       "      <th></th>\n",
       "      <th>lead_id</th>\n",
       "    </tr>\n",
       "    <tr>\n",
       "      <th>language</th>\n",
       "      <th>lead_gen_source</th>\n",
       "      <th></th>\n",
       "    </tr>\n",
       "  </thead>\n",
       "  <tbody>\n",
       "    <tr>\n",
       "      <th rowspan=\"5\" valign=\"top\">English</th>\n",
       "      <th>SEO</th>\n",
       "      <td>25</td>\n",
       "    </tr>\n",
       "    <tr>\n",
       "      <th>email_marketing</th>\n",
       "      <td>28</td>\n",
       "    </tr>\n",
       "    <tr>\n",
       "      <th>social_media</th>\n",
       "      <td>25</td>\n",
       "    </tr>\n",
       "    <tr>\n",
       "      <th>user_referrals</th>\n",
       "      <td>17</td>\n",
       "    </tr>\n",
       "    <tr>\n",
       "      <th>website</th>\n",
       "      <td>16</td>\n",
       "    </tr>\n",
       "    <tr>\n",
       "      <th rowspan=\"5\" valign=\"top\">Hindi</th>\n",
       "      <th>SEO</th>\n",
       "      <td>4</td>\n",
       "    </tr>\n",
       "    <tr>\n",
       "      <th>email_marketing</th>\n",
       "      <td>5</td>\n",
       "    </tr>\n",
       "    <tr>\n",
       "      <th>social_media</th>\n",
       "      <td>4</td>\n",
       "    </tr>\n",
       "    <tr>\n",
       "      <th>user_referrals</th>\n",
       "      <td>4</td>\n",
       "    </tr>\n",
       "    <tr>\n",
       "      <th>website</th>\n",
       "      <td>2</td>\n",
       "    </tr>\n",
       "    <tr>\n",
       "      <th rowspan=\"5\" valign=\"top\">Telugu</th>\n",
       "      <th>SEO</th>\n",
       "      <td>14</td>\n",
       "    </tr>\n",
       "    <tr>\n",
       "      <th>email_marketing</th>\n",
       "      <td>11</td>\n",
       "    </tr>\n",
       "    <tr>\n",
       "      <th>social_media</th>\n",
       "      <td>13</td>\n",
       "    </tr>\n",
       "    <tr>\n",
       "      <th>user_referrals</th>\n",
       "      <td>11</td>\n",
       "    </tr>\n",
       "    <tr>\n",
       "      <th>website</th>\n",
       "      <td>12</td>\n",
       "    </tr>\n",
       "  </tbody>\n",
       "</table>\n",
       "</div>"
      ],
      "text/plain": [
       "                          lead_id\n",
       "language lead_gen_source         \n",
       "English  SEO                   25\n",
       "         email_marketing       28\n",
       "         social_media          25\n",
       "         user_referrals        17\n",
       "         website               16\n",
       "Hindi    SEO                    4\n",
       "         email_marketing        5\n",
       "         social_media           4\n",
       "         user_referrals         4\n",
       "         website                2\n",
       "Telugu   SEO                   14\n",
       "         email_marketing       11\n",
       "         social_media          13\n",
       "         user_referrals        11\n",
       "         website               12"
      ]
     },
     "execution_count": 118,
     "metadata": {},
     "output_type": "execute_result"
    }
   ],
   "source": [
    "# pivot table for meaningful summary of data\n",
    "pivot2 = df_merged.pivot_table(index =['language', 'lead_gen_source'], \n",
    "                       values =['lead_id'], aggfunc ='count')\n",
    "d1=pd.DataFrame(pivot2)\n",
    "d1"
   ]
  },
  {
   "cell_type": "code",
   "execution_count": 86,
   "id": "c56560f7",
   "metadata": {},
   "outputs": [
    {
     "data": {
      "text/plain": [
       "current_city\n",
       "Bengaluru        32\n",
       "Chennai          30\n",
       "Hyderabad        40\n",
       "Kochi            31\n",
       "Mumbai           19\n",
       "Visakhapatnam    39\n",
       "dtype: int64"
      ]
     },
     "execution_count": 86,
     "metadata": {},
     "output_type": "execute_result"
    }
   ],
   "source": [
    "new_cities = df_merged.groupby('current_city').size()\n",
    "new_cities\n"
   ]
  },
  {
   "cell_type": "markdown",
   "id": "76ac1283",
   "metadata": {},
   "source": [
    "# Here We can See Visakhapatnam and Hyderabad cities have more lead as campare other cities."
   ]
  },
  {
   "cell_type": "code",
   "execution_count": 93,
   "id": "58c95043",
   "metadata": {
    "scrolled": true
   },
   "outputs": [
    {
     "data": {
      "text/plain": [
       "Text(0, 0.5, 'Lead ')"
      ]
     },
     "execution_count": 93,
     "metadata": {},
     "output_type": "execute_result"
    },
    {
     "data": {
      "image/png": "[encoded data removed]",
      "text/plain": [
       "<Figure size 432x288 with 1 Axes>"
      ]
     },
     "metadata": {
      "needs_background": "light"
     },
     "output_type": "display_data"
    }
   ],
   "source": [
    "\n",
    "new_cities.plot(kind=\"bar\",color='maroon')\n",
    "plt.xticks(rotation=30, horizontalalignment=\"center\")\n",
    "plt.title(\"Leads in Different Cities\")\n",
    "plt.xlabel(\" New Current City\")\n",
    "plt.ylabel(\"Lead \")"
   ]
  },
  {
   "cell_type": "code",
   "execution_count": 94,
   "id": "c84cc97c",
   "metadata": {},
   "outputs": [
    {
     "data": {
      "text/plain": [
       "language\n",
       "English    111\n",
       "Hindi       19\n",
       "Telugu      61\n",
       "dtype: int64"
      ]
     },
     "execution_count": 94,
     "metadata": {},
     "output_type": "execute_result"
    }
   ],
   "source": [
    "new_language = df_merged.groupby('language').size()\n",
    "new_language"
   ]
  },
  {
   "cell_type": "code",
   "execution_count": null,
   "id": "18da64e3",
   "metadata": {},
   "outputs": [],
   "source": []
  },
  {
   "cell_type": "code",
   "execution_count": 96,
   "id": "7c9dd55b",
   "metadata": {},
   "outputs": [
    {
     "data": {
      "text/plain": [
       "Text(0, 0.5, 'Lead ')"
      ]
     },
     "execution_count": 96,
     "metadata": {},
     "output_type": "execute_result"
    },
    {
     "data": {
      "image/png": "[encoded data removed]",
      "text/plain": [
       "<Figure size 432x288 with 1 Axes>"
      ]
     },
     "metadata": {
      "needs_background": "light"
     },
     "output_type": "display_data"
    }
   ],
   "source": [
    "new_language.plot(kind=\"bar\",color='green')\n",
    "plt.xticks(rotation=30, horizontalalignment=\"center\")\n",
    "plt.title(\"Leads in Different language\")\n",
    "plt.xlabel(\"Language\")\n",
    "plt.ylabel(\"Lead \")"
   ]
  },
  {
   "cell_type": "markdown",
   "id": "99d1e0b6",
   "metadata": {},
   "source": [
    "# start Here For leads_interaction_details"
   ]
  },
  {
   "cell_type": "code",
   "execution_count": 107,
   "id": "6852186a",
   "metadata": {},
   "outputs": [
    {
     "data": {
      "text/html": [
       "<div>\n",
       "<style scoped>\n",
       "    .dataframe tbody tr th:only-of-type {\n",
       "        vertical-align: middle;\n",
       "    }\n",
       "\n",
       "    .dataframe tbody tr th {\n",
       "        vertical-align: top;\n",
       "    }\n",
       "\n",
       "    .dataframe thead th {\n",
       "        text-align: right;\n",
       "    }\n",
       "</style>\n",
       "<table border=\"1\" class=\"dataframe\">\n",
       "  <thead>\n",
       "    <tr style=\"text-align: right;\">\n",
       "      <th></th>\n",
       "      <th>jnr_sm_id</th>\n",
       "      <th>lead_id</th>\n",
       "      <th>lead_stage</th>\n",
       "      <th>call_done_date</th>\n",
       "      <th>call_status</th>\n",
       "      <th>call_reason</th>\n",
       "    </tr>\n",
       "  </thead>\n",
       "  <tbody>\n",
       "    <tr>\n",
       "      <th>0</th>\n",
       "      <td>JNR1001MG</td>\n",
       "      <td>USR1001</td>\n",
       "      <td>lead</td>\n",
       "      <td>1/2/2022</td>\n",
       "      <td>successful</td>\n",
       "      <td>lead_introduction</td>\n",
       "    </tr>\n",
       "    <tr>\n",
       "      <th>1</th>\n",
       "      <td>JNR1001MG</td>\n",
       "      <td>USR1001</td>\n",
       "      <td>lead</td>\n",
       "      <td>1/2/2022</td>\n",
       "      <td>successful</td>\n",
       "      <td>demo_schedule</td>\n",
       "    </tr>\n",
       "    <tr>\n",
       "      <th>2</th>\n",
       "      <td>JNR1001MG</td>\n",
       "      <td>USR1002</td>\n",
       "      <td>lead</td>\n",
       "      <td>1/3/2022</td>\n",
       "      <td>successful</td>\n",
       "      <td>lead_introduction</td>\n",
       "    </tr>\n",
       "    <tr>\n",
       "      <th>3</th>\n",
       "      <td>JNR1001MG</td>\n",
       "      <td>USR1002</td>\n",
       "      <td>lead</td>\n",
       "      <td>1/4/2022</td>\n",
       "      <td>successful</td>\n",
       "      <td>demo_schedule</td>\n",
       "    </tr>\n",
       "    <tr>\n",
       "      <th>4</th>\n",
       "      <td>JNR1001MG</td>\n",
       "      <td>USR1002</td>\n",
       "      <td>awareness</td>\n",
       "      <td>1/5/2022</td>\n",
       "      <td>successful</td>\n",
       "      <td>post_demo_followup</td>\n",
       "    </tr>\n",
       "  </tbody>\n",
       "</table>\n",
       "</div>"
      ],
      "text/plain": [
       "   jnr_sm_id  lead_id lead_stage call_done_date call_status  \\\n",
       "0  JNR1001MG  USR1001       lead       1/2/2022  successful   \n",
       "1  JNR1001MG  USR1001       lead       1/2/2022  successful   \n",
       "2  JNR1001MG  USR1002       lead       1/3/2022  successful   \n",
       "3  JNR1001MG  USR1002       lead       1/4/2022  successful   \n",
       "4  JNR1001MG  USR1002  awareness       1/5/2022  successful   \n",
       "\n",
       "          call_reason  \n",
       "0   lead_introduction  \n",
       "1       demo_schedule  \n",
       "2   lead_introduction  \n",
       "3       demo_schedule  \n",
       "4  post_demo_followup  "
      ]
     },
     "execution_count": 107,
     "metadata": {},
     "output_type": "execute_result"
    }
   ],
   "source": [
    "df3=pd.read_csv(\"C:\\\\Users\\\\Ruhan\\\\OneDrive - Careismatic Brands, Inc\\\\Documents\\\\archive (1)\\\\leads_interaction_details.csv\")\n",
    "df3.head(5)"
   ]
  },
  {
   "cell_type": "markdown",
   "id": "36bf5d8e",
   "metadata": {},
   "source": [
    "# find missing value"
   ]
  },
  {
   "cell_type": "code",
   "execution_count": 138,
   "id": "9c45c24c",
   "metadata": {},
   "outputs": [
    {
     "data": {
      "text/plain": [
       "jnr_sm_id         0\n",
       "lead_id           0\n",
       "lead_stage        0\n",
       "call_done_date    0\n",
       "call_status       0\n",
       "call_reason       0\n",
       "dtype: int64"
      ]
     },
     "execution_count": 138,
     "metadata": {},
     "output_type": "execute_result"
    }
   ],
   "source": [
    "df3.isnull().sum()"
   ]
  },
  {
   "cell_type": "code",
   "execution_count": 109,
   "id": "f880508f",
   "metadata": {},
   "outputs": [
    {
     "data": {
      "text/plain": [
       "array(['lead', 'awareness', 'consideration', 'conversion'], dtype=object)"
      ]
     },
     "execution_count": 109,
     "metadata": {},
     "output_type": "execute_result"
    }
   ],
   "source": [
    "df3.lead_stage.unique()"
   ]
  },
  {
   "cell_type": "code",
   "execution_count": 110,
   "id": "978e212c",
   "metadata": {},
   "outputs": [
    {
     "name": "stdout",
     "output_type": "stream",
     "text": [
      "<class 'pandas.core.frame.DataFrame'>\n",
      "RangeIndex: 2192 entries, 0 to 2191\n",
      "Data columns (total 6 columns):\n",
      " #   Column          Non-Null Count  Dtype \n",
      "---  ------          --------------  ----- \n",
      " 0   jnr_sm_id       2192 non-null   object\n",
      " 1   lead_id         2192 non-null   object\n",
      " 2   lead_stage      2192 non-null   object\n",
      " 3   call_done_date  2192 non-null   object\n",
      " 4   call_status     2192 non-null   object\n",
      " 5   call_reason     2192 non-null   object\n",
      "dtypes: object(6)\n",
      "memory usage: 102.9+ KB\n"
     ]
    }
   ],
   "source": [
    "df3.info()"
   ]
  },
  {
   "cell_type": "code",
   "execution_count": 112,
   "id": "1fcf0229",
   "metadata": {},
   "outputs": [
    {
     "data": {
      "text/plain": [
       "lead             1547\n",
       "consideration     331\n",
       "awareness         250\n",
       "conversion         64\n",
       "Name: lead_stage, dtype: int64"
      ]
     },
     "execution_count": 112,
     "metadata": {},
     "output_type": "execute_result"
    }
   ],
   "source": [
    "df3.lead_stage.value_counts()"
   ]
  },
  {
   "cell_type": "code",
   "execution_count": 114,
   "id": "efa8cf23",
   "metadata": {},
   "outputs": [
    {
     "data": {
      "text/plain": [
       "array(['lead_introduction', 'demo_schedule', 'post_demo_followup',\n",
       "       'followup_for_consideration', 'interested_for_conversion',\n",
       "       'followup_for_conversion', 'successful_conversion',\n",
       "       'demo_not_attended'], dtype=object)"
      ]
     },
     "execution_count": 114,
     "metadata": {},
     "output_type": "execute_result"
    }
   ],
   "source": [
    "df3.call_reason.unique()"
   ]
  },
  {
   "cell_type": "code",
   "execution_count": 116,
   "id": "62a462cc",
   "metadata": {},
   "outputs": [
    {
     "data": {
      "text/plain": [
       "demo_not_attended             701\n",
       "lead_introduction             499\n",
       "demo_schedule                 347\n",
       "post_demo_followup            197\n",
       "followup_for_conversion       189\n",
       "interested_for_conversion     142\n",
       "successful_conversion          64\n",
       "followup_for_consideration     53\n",
       "Name: call_reason, dtype: int64"
      ]
     },
     "execution_count": 116,
     "metadata": {},
     "output_type": "execute_result"
    }
   ],
   "source": [
    "df3.call_reason.value_counts()"
   ]
  },
  {
   "cell_type": "markdown",
   "id": "4fa2a42f",
   "metadata": {},
   "source": [
    "# Merge two data frame"
   ]
  },
  {
   "cell_type": "code",
   "execution_count": 117,
   "id": "40f9f4d7",
   "metadata": {},
   "outputs": [
    {
     "data": {
      "text/html": [
       "<div>\n",
       "<style scoped>\n",
       "    .dataframe tbody tr th:only-of-type {\n",
       "        vertical-align: middle;\n",
       "    }\n",
       "\n",
       "    .dataframe tbody tr th {\n",
       "        vertical-align: top;\n",
       "    }\n",
       "\n",
       "    .dataframe thead th {\n",
       "        text-align: right;\n",
       "    }\n",
       "</style>\n",
       "<table border=\"1\" class=\"dataframe\">\n",
       "  <thead>\n",
       "    <tr style=\"text-align: right;\">\n",
       "      <th></th>\n",
       "      <th>lead_id</th>\n",
       "      <th>demo_watched_date</th>\n",
       "      <th>language</th>\n",
       "      <th>watched_percentage</th>\n",
       "      <th>jnr_sm_id</th>\n",
       "      <th>lead_stage</th>\n",
       "      <th>call_done_date</th>\n",
       "      <th>call_status</th>\n",
       "      <th>call_reason</th>\n",
       "    </tr>\n",
       "  </thead>\n",
       "  <tbody>\n",
       "    <tr>\n",
       "      <th>0</th>\n",
       "      <td>USR1002</td>\n",
       "      <td>1/4/2022</td>\n",
       "      <td>Telugu</td>\n",
       "      <td>42</td>\n",
       "      <td>JNR1001MG</td>\n",
       "      <td>lead</td>\n",
       "      <td>1/3/2022</td>\n",
       "      <td>successful</td>\n",
       "      <td>lead_introduction</td>\n",
       "    </tr>\n",
       "    <tr>\n",
       "      <th>1</th>\n",
       "      <td>USR1002</td>\n",
       "      <td>1/4/2022</td>\n",
       "      <td>Telugu</td>\n",
       "      <td>42</td>\n",
       "      <td>JNR1001MG</td>\n",
       "      <td>lead</td>\n",
       "      <td>1/4/2022</td>\n",
       "      <td>successful</td>\n",
       "      <td>demo_schedule</td>\n",
       "    </tr>\n",
       "    <tr>\n",
       "      <th>2</th>\n",
       "      <td>USR1002</td>\n",
       "      <td>1/4/2022</td>\n",
       "      <td>Telugu</td>\n",
       "      <td>42</td>\n",
       "      <td>JNR1001MG</td>\n",
       "      <td>awareness</td>\n",
       "      <td>1/5/2022</td>\n",
       "      <td>successful</td>\n",
       "      <td>post_demo_followup</td>\n",
       "    </tr>\n",
       "    <tr>\n",
       "      <th>3</th>\n",
       "      <td>USR1002</td>\n",
       "      <td>1/4/2022</td>\n",
       "      <td>Telugu</td>\n",
       "      <td>42</td>\n",
       "      <td>JNR1001MG</td>\n",
       "      <td>awareness</td>\n",
       "      <td>1/6/2022</td>\n",
       "      <td>successful</td>\n",
       "      <td>followup_for_consideration</td>\n",
       "    </tr>\n",
       "    <tr>\n",
       "      <th>4</th>\n",
       "      <td>USR1002</td>\n",
       "      <td>1/4/2022</td>\n",
       "      <td>Telugu</td>\n",
       "      <td>42</td>\n",
       "      <td>JNR1001MG</td>\n",
       "      <td>consideration</td>\n",
       "      <td>1/7/2022</td>\n",
       "      <td>successful</td>\n",
       "      <td>interested_for_conversion</td>\n",
       "    </tr>\n",
       "    <tr>\n",
       "      <th>...</th>\n",
       "      <td>...</td>\n",
       "      <td>...</td>\n",
       "      <td>...</td>\n",
       "      <td>...</td>\n",
       "      <td>...</td>\n",
       "      <td>...</td>\n",
       "      <td>...</td>\n",
       "      <td>...</td>\n",
       "      <td>...</td>\n",
       "    </tr>\n",
       "    <tr>\n",
       "      <th>1555</th>\n",
       "      <td>USR1348</td>\n",
       "      <td>2/27/2022</td>\n",
       "      <td>English</td>\n",
       "      <td>72</td>\n",
       "      <td>JNR1012MG</td>\n",
       "      <td>lead</td>\n",
       "      <td>2/28/2022</td>\n",
       "      <td>successful</td>\n",
       "      <td>demo_not_attended</td>\n",
       "    </tr>\n",
       "    <tr>\n",
       "      <th>1556</th>\n",
       "      <td>USR1348</td>\n",
       "      <td>2/27/2022</td>\n",
       "      <td>English</td>\n",
       "      <td>72</td>\n",
       "      <td>JNR1012MG</td>\n",
       "      <td>awareness</td>\n",
       "      <td>2/28/2022</td>\n",
       "      <td>successful</td>\n",
       "      <td>post_demo_followup</td>\n",
       "    </tr>\n",
       "    <tr>\n",
       "      <th>1557</th>\n",
       "      <td>USR1348</td>\n",
       "      <td>2/27/2022</td>\n",
       "      <td>English</td>\n",
       "      <td>72</td>\n",
       "      <td>JNR1012MG</td>\n",
       "      <td>awareness</td>\n",
       "      <td>2/28/2022</td>\n",
       "      <td>successful</td>\n",
       "      <td>followup_for_consideration</td>\n",
       "    </tr>\n",
       "    <tr>\n",
       "      <th>1558</th>\n",
       "      <td>USR1348</td>\n",
       "      <td>2/27/2022</td>\n",
       "      <td>English</td>\n",
       "      <td>72</td>\n",
       "      <td>JNR1012MG</td>\n",
       "      <td>consideration</td>\n",
       "      <td>2/28/2022</td>\n",
       "      <td>successful</td>\n",
       "      <td>followup_for_conversion</td>\n",
       "    </tr>\n",
       "    <tr>\n",
       "      <th>1559</th>\n",
       "      <td>USR1348</td>\n",
       "      <td>2/27/2022</td>\n",
       "      <td>English</td>\n",
       "      <td>72</td>\n",
       "      <td>JNR1012MG</td>\n",
       "      <td>consideration</td>\n",
       "      <td>2/28/2022</td>\n",
       "      <td>successful</td>\n",
       "      <td>interested_for_conversion</td>\n",
       "    </tr>\n",
       "  </tbody>\n",
       "</table>\n",
       "<p>1560 rows × 9 columns</p>\n",
       "</div>"
      ],
      "text/plain": [
       "      lead_id demo_watched_date language  watched_percentage  jnr_sm_id  \\\n",
       "0     USR1002          1/4/2022   Telugu                  42  JNR1001MG   \n",
       "1     USR1002          1/4/2022   Telugu                  42  JNR1001MG   \n",
       "2     USR1002          1/4/2022   Telugu                  42  JNR1001MG   \n",
       "3     USR1002          1/4/2022   Telugu                  42  JNR1001MG   \n",
       "4     USR1002          1/4/2022   Telugu                  42  JNR1001MG   \n",
       "...       ...               ...      ...                 ...        ...   \n",
       "1555  USR1348         2/27/2022  English                  72  JNR1012MG   \n",
       "1556  USR1348         2/27/2022  English                  72  JNR1012MG   \n",
       "1557  USR1348         2/27/2022  English                  72  JNR1012MG   \n",
       "1558  USR1348         2/27/2022  English                  72  JNR1012MG   \n",
       "1559  USR1348         2/27/2022  English                  72  JNR1012MG   \n",
       "\n",
       "         lead_stage call_done_date call_status                 call_reason  \n",
       "0              lead       1/3/2022  successful           lead_introduction  \n",
       "1              lead       1/4/2022  successful               demo_schedule  \n",
       "2         awareness       1/5/2022  successful          post_demo_followup  \n",
       "3         awareness       1/6/2022  successful  followup_for_consideration  \n",
       "4     consideration       1/7/2022  successful   interested_for_conversion  \n",
       "...             ...            ...         ...                         ...  \n",
       "1555           lead      2/28/2022  successful           demo_not_attended  \n",
       "1556      awareness      2/28/2022  successful          post_demo_followup  \n",
       "1557      awareness      2/28/2022  successful  followup_for_consideration  \n",
       "1558  consideration      2/28/2022  successful     followup_for_conversion  \n",
       "1559  consideration      2/28/2022  successful   interested_for_conversion  \n",
       "\n",
       "[1560 rows x 9 columns]"
      ]
     },
     "execution_count": 117,
     "metadata": {},
     "output_type": "execute_result"
    }
   ],
   "source": [
    "merged_interaction = pd.merge(df22,df3, how='inner', on = 'lead_id')\n",
    "merged_interaction"
   ]
  },
  {
   "cell_type": "markdown",
   "id": "dea21d5a",
   "metadata": {},
   "source": [
    "#  find no of successful and unsuccessful status  with specific call_reason"
   ]
  },
  {
   "cell_type": "code",
   "execution_count": 121,
   "id": "bb8d2e7c",
   "metadata": {},
   "outputs": [
    {
     "data": {
      "text/html": [
       "<div>\n",
       "<style scoped>\n",
       "    .dataframe tbody tr th:only-of-type {\n",
       "        vertical-align: middle;\n",
       "    }\n",
       "\n",
       "    .dataframe tbody tr th {\n",
       "        vertical-align: top;\n",
       "    }\n",
       "\n",
       "    .dataframe thead th {\n",
       "        text-align: right;\n",
       "    }\n",
       "</style>\n",
       "<table border=\"1\" class=\"dataframe\">\n",
       "  <thead>\n",
       "    <tr style=\"text-align: right;\">\n",
       "      <th></th>\n",
       "      <th></th>\n",
       "      <th>lead_id</th>\n",
       "    </tr>\n",
       "    <tr>\n",
       "      <th>call_status</th>\n",
       "      <th>call_reason</th>\n",
       "      <th></th>\n",
       "    </tr>\n",
       "  </thead>\n",
       "  <tbody>\n",
       "    <tr>\n",
       "      <th rowspan=\"8\" valign=\"top\">successful</th>\n",
       "      <th>demo_not_attended</th>\n",
       "      <td>385</td>\n",
       "    </tr>\n",
       "    <tr>\n",
       "      <th>demo_schedule</th>\n",
       "      <td>192</td>\n",
       "    </tr>\n",
       "    <tr>\n",
       "      <th>followup_for_consideration</th>\n",
       "      <td>48</td>\n",
       "    </tr>\n",
       "    <tr>\n",
       "      <th>followup_for_conversion</th>\n",
       "      <td>168</td>\n",
       "    </tr>\n",
       "    <tr>\n",
       "      <th>interested_for_conversion</th>\n",
       "      <td>120</td>\n",
       "    </tr>\n",
       "    <tr>\n",
       "      <th>lead_introduction</th>\n",
       "      <td>192</td>\n",
       "    </tr>\n",
       "    <tr>\n",
       "      <th>post_demo_followup</th>\n",
       "      <td>195</td>\n",
       "    </tr>\n",
       "    <tr>\n",
       "      <th>successful_conversion</th>\n",
       "      <td>63</td>\n",
       "    </tr>\n",
       "    <tr>\n",
       "      <th rowspan=\"6\" valign=\"top\">unsuccessful</th>\n",
       "      <th>demo_not_attended</th>\n",
       "      <td>45</td>\n",
       "    </tr>\n",
       "    <tr>\n",
       "      <th>demo_schedule</th>\n",
       "      <td>15</td>\n",
       "    </tr>\n",
       "    <tr>\n",
       "      <th>followup_for_consideration</th>\n",
       "      <td>5</td>\n",
       "    </tr>\n",
       "    <tr>\n",
       "      <th>followup_for_conversion</th>\n",
       "      <td>19</td>\n",
       "    </tr>\n",
       "    <tr>\n",
       "      <th>interested_for_conversion</th>\n",
       "      <td>21</td>\n",
       "    </tr>\n",
       "    <tr>\n",
       "      <th>lead_introduction</th>\n",
       "      <td>92</td>\n",
       "    </tr>\n",
       "  </tbody>\n",
       "</table>\n",
       "</div>"
      ],
      "text/plain": [
       "                                         lead_id\n",
       "call_status  call_reason                        \n",
       "successful   demo_not_attended               385\n",
       "             demo_schedule                   192\n",
       "             followup_for_consideration       48\n",
       "             followup_for_conversion         168\n",
       "             interested_for_conversion       120\n",
       "             lead_introduction               192\n",
       "             post_demo_followup              195\n",
       "             successful_conversion            63\n",
       "unsuccessful demo_not_attended                45\n",
       "             demo_schedule                    15\n",
       "             followup_for_consideration        5\n",
       "             followup_for_conversion          19\n",
       "             interested_for_conversion        21\n",
       "             lead_introduction                92"
      ]
     },
     "execution_count": 121,
     "metadata": {},
     "output_type": "execute_result"
    }
   ],
   "source": [
    "# pivot table for meaningful summary of data\n",
    "pivot3 = merged_interaction.pivot_table(index =['call_status','call_reason'], \n",
    "                       values =['lead_id'], aggfunc ='count')\n",
    "d2=pd.DataFrame(pivot3)\n",
    "d2"
   ]
  },
  {
   "cell_type": "code",
   "execution_count": 123,
   "id": "fd126401",
   "metadata": {},
   "outputs": [
    {
     "data": {
      "text/plain": [
       "call_status   call_reason               \n",
       "successful    demo_not_attended             385\n",
       "              demo_schedule                 192\n",
       "              followup_for_consideration     48\n",
       "              followup_for_conversion       168\n",
       "              interested_for_conversion     120\n",
       "              lead_introduction             192\n",
       "              post_demo_followup            195\n",
       "              successful_conversion          63\n",
       "unsuccessful  demo_not_attended              45\n",
       "              demo_schedule                  15\n",
       "              followup_for_consideration      5\n",
       "              followup_for_conversion        19\n",
       "              interested_for_conversion      21\n",
       "              lead_introduction              92\n",
       "dtype: int64"
      ]
     },
     "execution_count": 123,
     "metadata": {},
     "output_type": "execute_result"
    }
   ],
   "source": [
    "n_status = merged_interaction.groupby(['call_status','call_reason']).size()\n",
    "n_status\n"
   ]
  },
  {
   "cell_type": "code",
   "execution_count": 132,
   "id": "fbfd3571",
   "metadata": {},
   "outputs": [
    {
     "data": {
      "text/plain": [
       "Text(0, 0.5, 'Lead ')"
      ]
     },
     "execution_count": 132,
     "metadata": {},
     "output_type": "execute_result"
    },
    {
     "data": {
      "image/png": "[encoded data removed]",
      "text/plain": [
       "<Figure size 432x288 with 1 Axes>"
      ]
     },
     "metadata": {
      "needs_background": "light"
     },
     "output_type": "display_data"
    }
   ],
   "source": [
    "\n",
    "n_status.plot(kind=\"bar\",color='blue')\n",
    "plt.xticks(rotation=70, horizontalalignment=\"center\")\n",
    "plt.title(\"Leads in Call_Status with Reason\")\n",
    "plt.xlabel(\" Call_Reason\")\n",
    "plt.ylabel(\"Lead \")"
   ]
  },
  {
   "cell_type": "markdown",
   "id": "5cc369a0",
   "metadata": {},
   "source": [
    "# Here We can see  that approx 85% call successful and 15% unsuccessful status based by each leads"
   ]
  },
  {
   "cell_type": "code",
   "execution_count": 135,
   "id": "27166418",
   "metadata": {},
   "outputs": [
    {
     "data": {
      "text/plain": [
       "Text(0.5, 1.0, 'Call_Status')"
      ]
     },
     "execution_count": 135,
     "metadata": {},
     "output_type": "execute_result"
    },
    {
     "data": {
      "image/png": "[encoded data removed]",
      "text/plain": [
       "<Figure size 432x288 with 1 Axes>"
      ]
     },
     "metadata": {},
     "output_type": "display_data"
    }
   ],
   "source": [
    "sort_lang = df3.groupby('call_status').size().plot(kind='pie', autopct='%.2f' ,ylabel='')\n",
    "plt.title('Call_Status')"
   ]
  },
  {
   "cell_type": "markdown",
   "id": "44fdd1ed",
   "metadata": {},
   "source": [
    "# Started Here leads_reasons_for_no_interest"
   ]
  },
  {
   "cell_type": "code",
   "execution_count": 136,
   "id": "343471bd",
   "metadata": {},
   "outputs": [
    {
     "data": {
      "text/html": [
       "<div>\n",
       "<style scoped>\n",
       "    .dataframe tbody tr th:only-of-type {\n",
       "        vertical-align: middle;\n",
       "    }\n",
       "\n",
       "    .dataframe tbody tr th {\n",
       "        vertical-align: top;\n",
       "    }\n",
       "\n",
       "    .dataframe thead th {\n",
       "        text-align: right;\n",
       "    }\n",
       "</style>\n",
       "<table border=\"1\" class=\"dataframe\">\n",
       "  <thead>\n",
       "    <tr style=\"text-align: right;\">\n",
       "      <th></th>\n",
       "      <th>lead_id</th>\n",
       "      <th>reasons_for_not_interested_in_demo</th>\n",
       "      <th>reasons_for_not_interested_to_consider</th>\n",
       "      <th>reasons_for_not_interested_to_convert</th>\n",
       "    </tr>\n",
       "  </thead>\n",
       "  <tbody>\n",
       "    <tr>\n",
       "      <th>0</th>\n",
       "      <td>USR1001</td>\n",
       "      <td>No time for student</td>\n",
       "      <td>NaN</td>\n",
       "      <td>NaN</td>\n",
       "    </tr>\n",
       "    <tr>\n",
       "      <th>1</th>\n",
       "      <td>USR1003</td>\n",
       "      <td>NaN</td>\n",
       "      <td>No time for student</td>\n",
       "      <td>NaN</td>\n",
       "    </tr>\n",
       "    <tr>\n",
       "      <th>2</th>\n",
       "      <td>USR1004</td>\n",
       "      <td>NaN</td>\n",
       "      <td>Wants offline classes</td>\n",
       "      <td>NaN</td>\n",
       "    </tr>\n",
       "    <tr>\n",
       "      <th>3</th>\n",
       "      <td>USR1005</td>\n",
       "      <td>NaN</td>\n",
       "      <td>Can't afford</td>\n",
       "      <td>NaN</td>\n",
       "    </tr>\n",
       "    <tr>\n",
       "      <th>4</th>\n",
       "      <td>USR1006</td>\n",
       "      <td>NaN</td>\n",
       "      <td>Student not interested in domain</td>\n",
       "      <td>NaN</td>\n",
       "    </tr>\n",
       "  </tbody>\n",
       "</table>\n",
       "</div>"
      ],
      "text/plain": [
       "   lead_id reasons_for_not_interested_in_demo  \\\n",
       "0  USR1001                No time for student   \n",
       "1  USR1003                                NaN   \n",
       "2  USR1004                                NaN   \n",
       "3  USR1005                                NaN   \n",
       "4  USR1006                                NaN   \n",
       "\n",
       "  reasons_for_not_interested_to_consider reasons_for_not_interested_to_convert  \n",
       "0                                    NaN                                   NaN  \n",
       "1                    No time for student                                   NaN  \n",
       "2                  Wants offline classes                                   NaN  \n",
       "3                           Can't afford                                   NaN  \n",
       "4       Student not interested in domain                                   NaN  "
      ]
     },
     "execution_count": 136,
     "metadata": {},
     "output_type": "execute_result"
    }
   ],
   "source": [
    "df4=pd.read_csv(\"C:\\\\Users\\\\Ruhan\\\\OneDrive - Careismatic Brands, Inc\\\\Documents\\\\archive (1)\\\\leads_reasons_for_no_interest.csv\")\n",
    "df4.head(5)"
   ]
  },
  {
   "cell_type": "markdown",
   "id": "99db67ec",
   "metadata": {},
   "source": [
    "# finding missing value"
   ]
  },
  {
   "cell_type": "code",
   "execution_count": 139,
   "id": "94e30c24",
   "metadata": {},
   "outputs": [
    {
     "data": {
      "text/plain": [
       "lead_id                                     0\n",
       "reasons_for_not_interested_in_demo        130\n",
       "reasons_for_not_interested_to_consider    215\n",
       "reasons_for_not_interested_to_convert     243\n",
       "dtype: int64"
      ]
     },
     "execution_count": 139,
     "metadata": {},
     "output_type": "execute_result"
    }
   ],
   "source": [
    "df4.isnull().sum()"
   ]
  },
  {
   "cell_type": "markdown",
   "id": "1dee3ffe",
   "metadata": {},
   "source": [
    "# Handling missing value above three columns and this three colums all data in text format so i will use mode for finding most frequent values and then handle missing value"
   ]
  },
  {
   "cell_type": "code",
   "execution_count": 143,
   "id": "5f157dd5",
   "metadata": {},
   "outputs": [
    {
     "data": {
      "text/plain": [
       "0    Wants offline classes\n",
       "Name: reasons_for_not_interested_in_demo, dtype: object"
      ]
     },
     "execution_count": 143,
     "metadata": {},
     "output_type": "execute_result"
    }
   ],
   "source": [
    "df4.reasons_for_not_interested_in_demo.mode()"
   ]
  },
  {
   "cell_type": "code",
   "execution_count": 144,
   "id": "4b34a883",
   "metadata": {},
   "outputs": [
    {
     "data": {
      "text/plain": [
       "0    Can't afford\n",
       "Name: reasons_for_not_interested_to_consider, dtype: object"
      ]
     },
     "execution_count": 144,
     "metadata": {},
     "output_type": "execute_result"
    }
   ],
   "source": [
    "df4.reasons_for_not_interested_to_consider.mode()"
   ]
  },
  {
   "cell_type": "code",
   "execution_count": 145,
   "id": "db73c48c",
   "metadata": {},
   "outputs": [
    {
     "data": {
      "text/plain": [
       "0    Can't afford\n",
       "Name: reasons_for_not_interested_to_convert, dtype: object"
      ]
     },
     "execution_count": 145,
     "metadata": {},
     "output_type": "execute_result"
    }
   ],
   "source": [
    "df4.reasons_for_not_interested_to_convert.mode()"
   ]
  },
  {
   "cell_type": "code",
   "execution_count": 146,
   "id": "ae9b1110",
   "metadata": {},
   "outputs": [],
   "source": [
    "# Replacing values because both meaning same\n",
    "df4['reasons_for_not_interested_in_demo'].replace({'Cannot afford':\"Can't afford\"}, inplace=True)\n"
   ]
  },
  {
   "cell_type": "markdown",
   "id": "511a32f4",
   "metadata": {},
   "source": [
    "# filling missing value based on most frequent values of particular column"
   ]
  },
  {
   "cell_type": "code",
   "execution_count": 147,
   "id": "d57fb033",
   "metadata": {},
   "outputs": [],
   "source": [
    "df4[\"reasons_for_not_interested_in_demo\"].fillna(\"Wants offline classes\", inplace = True)\n",
    "df4[\"reasons_for_not_interested_to_consider\"].fillna(\"Can't afford\", inplace = True)\n",
    "df4[\"reasons_for_not_interested_to_convert\"].fillna(\"Can't afford\", inplace = True)\n",
    " \n",
    " "
   ]
  },
  {
   "cell_type": "markdown",
   "id": "71d4cfd9",
   "metadata": {},
   "source": [
    "#  here you can see no missing value below columns"
   ]
  },
  {
   "cell_type": "code",
   "execution_count": 148,
   "id": "52db5281",
   "metadata": {},
   "outputs": [
    {
     "data": {
      "text/plain": [
       "lead_id                                   0\n",
       "reasons_for_not_interested_in_demo        0\n",
       "reasons_for_not_interested_to_consider    0\n",
       "reasons_for_not_interested_to_convert     0\n",
       "dtype: int64"
      ]
     },
     "execution_count": 148,
     "metadata": {},
     "output_type": "execute_result"
    }
   ],
   "source": [
    "#after filling missing value check\n",
    "df4.isnull().sum()"
   ]
  },
  {
   "cell_type": "code",
   "execution_count": 149,
   "id": "95690c19",
   "metadata": {},
   "outputs": [
    {
     "data": {
      "text/plain": [
       "reasons_for_not_interested_in_demo\n",
       "Can't afford                         48\n",
       "No time for student                  27\n",
       "Student not interested in domain     28\n",
       "Wants offline classes               186\n",
       "Will join in final year               5\n",
       "dtype: int64"
      ]
     },
     "execution_count": 149,
     "metadata": {},
     "output_type": "execute_result"
    }
   ],
   "source": [
    "df4.groupby('reasons_for_not_interested_in_demo').size()"
   ]
  },
  {
   "cell_type": "markdown",
   "id": "1e7b4cfe",
   "metadata": {},
   "source": [
    "# lead by reasons_for_not_interested_in_demo"
   ]
  },
  {
   "cell_type": "code",
   "execution_count": 150,
   "id": "c250574c",
   "metadata": {},
   "outputs": [
    {
     "data": {
      "image/png": "[encoded data removed]",
      "text/plain": [
       "<Figure size 432x288 with 1 Axes>"
      ]
     },
     "metadata": {},
     "output_type": "display_data"
    }
   ],
   "source": [
    "lead_no_interest= df4.groupby('reasons_for_not_interested_in_demo').size().plot(kind='pie', autopct='%.2f', ylabel='')"
   ]
  },
  {
   "cell_type": "code",
   "execution_count": 151,
   "id": "82a7f3cf",
   "metadata": {},
   "outputs": [
    {
     "data": {
      "text/plain": [
       "reasons_for_not_interested_to_consider\n",
       "Can't afford                        247\n",
       "No time for student                   6\n",
       "Student not interested in domain     14\n",
       "Wants offline classes                25\n",
       "Will join in final year               2\n",
       "dtype: int64"
      ]
     },
     "execution_count": 151,
     "metadata": {},
     "output_type": "execute_result"
    }
   ],
   "source": [
    "n_con = df4.groupby('reasons_for_not_interested_to_consider').size()\n",
    "n_con\n"
   ]
  },
  {
   "cell_type": "markdown",
   "id": "ac4ab71c",
   "metadata": {},
   "source": [
    "# Here we can see most used reason is \"can't afford\" and least reason \"will join in final year\""
   ]
  },
  {
   "cell_type": "code",
   "execution_count": 154,
   "id": "24aa3278",
   "metadata": {},
   "outputs": [
    {
     "data": {
      "text/plain": [
       "Text(0, 0.5, 'Lead ')"
      ]
     },
     "execution_count": 154,
     "metadata": {},
     "output_type": "execute_result"
    },
    {
     "data": {
      "image/png": "[encoded data removed]",
      "text/plain": [
       "<Figure size 432x288 with 1 Axes>"
      ]
     },
     "metadata": {
      "needs_background": "light"
     },
     "output_type": "display_data"
    }
   ],
   "source": [
    "n_con.plot(kind=\"bar\",color='red')\n",
    "plt.xticks(rotation=60, horizontalalignment=\"center\")\n",
    "plt.title(\"Leads in reasons_for_not_interested_to_consider\")\n",
    "plt.xlabel(\"Reasons_for_not_interested_to_consider\")\n",
    "plt.ylabel(\"Lead \")\n"
   ]
  },
  {
   "cell_type": "code",
   "execution_count": 155,
   "id": "96ed68eb",
   "metadata": {},
   "outputs": [
    {
     "data": {
      "text/plain": [
       "reasons_for_not_interested_to_convert\n",
       "Can't afford                        262\n",
       "No time for student                   5\n",
       "Student not interested in domain     10\n",
       "Wants offline classes                10\n",
       "Will join in final year               7\n",
       "dtype: int64"
      ]
     },
     "execution_count": 155,
     "metadata": {},
     "output_type": "execute_result"
    }
   ],
   "source": [
    "n_con1 = df4.groupby('reasons_for_not_interested_to_convert').size()\n",
    "n_con1\n"
   ]
  },
  {
   "cell_type": "code",
   "execution_count": 156,
   "id": "c2ac37f9",
   "metadata": {},
   "outputs": [
    {
     "data": {
      "text/plain": [
       "Text(0, 0.5, 'Lead ')"
      ]
     },
     "execution_count": 156,
     "metadata": {},
     "output_type": "execute_result"
    },
    {
     "data": {
      "image/png": "[encoded data removed]",
      "text/plain": [
       "<Figure size 432x288 with 1 Axes>"
      ]
     },
     "metadata": {
      "needs_background": "light"
     },
     "output_type": "display_data"
    }
   ],
   "source": [
    "n_con1.plot(kind=\"bar\",color='purple')\n",
    "plt.xticks(rotation=60, horizontalalignment=\"center\")\n",
    "plt.title(\"Leads in reasons_for_not_interested_to_convert\")\n",
    "plt.xlabel(\"Reasons_for_not_interested_to_convert\")\n",
    "plt.ylabel(\"Lead \")"
   ]
  },
  {
   "cell_type": "markdown",
   "id": "9eaedb75",
   "metadata": {},
   "source": [
    "# Started Here sales_managers_assigned_leads_detail"
   ]
  },
  {
   "cell_type": "code",
   "execution_count": 159,
   "id": "39af06c5",
   "metadata": {
    "scrolled": true
   },
   "outputs": [
    {
     "data": {
      "text/html": [
       "<div>\n",
       "<style scoped>\n",
       "    .dataframe tbody tr th:only-of-type {\n",
       "        vertical-align: middle;\n",
       "    }\n",
       "\n",
       "    .dataframe tbody tr th {\n",
       "        vertical-align: top;\n",
       "    }\n",
       "\n",
       "    .dataframe thead th {\n",
       "        text-align: right;\n",
       "    }\n",
       "</style>\n",
       "<table border=\"1\" class=\"dataframe\">\n",
       "  <thead>\n",
       "    <tr style=\"text-align: right;\">\n",
       "      <th></th>\n",
       "      <th>snr_sm_id</th>\n",
       "      <th>jnr_sm_id</th>\n",
       "      <th>assigned_date</th>\n",
       "      <th>cycle</th>\n",
       "      <th>lead_id</th>\n",
       "    </tr>\n",
       "  </thead>\n",
       "  <tbody>\n",
       "    <tr>\n",
       "      <th>0</th>\n",
       "      <td>SNR501MG</td>\n",
       "      <td>JNR1001MG</td>\n",
       "      <td>1/1/2022</td>\n",
       "      <td>1</td>\n",
       "      <td>USR1001</td>\n",
       "    </tr>\n",
       "    <tr>\n",
       "      <th>1</th>\n",
       "      <td>SNR501MG</td>\n",
       "      <td>JNR1001MG</td>\n",
       "      <td>1/1/2022</td>\n",
       "      <td>1</td>\n",
       "      <td>USR1002</td>\n",
       "    </tr>\n",
       "    <tr>\n",
       "      <th>2</th>\n",
       "      <td>SNR501MG</td>\n",
       "      <td>JNR1001MG</td>\n",
       "      <td>1/1/2022</td>\n",
       "      <td>1</td>\n",
       "      <td>USR1003</td>\n",
       "    </tr>\n",
       "    <tr>\n",
       "      <th>3</th>\n",
       "      <td>SNR501MG</td>\n",
       "      <td>JNR1001MG</td>\n",
       "      <td>1/1/2022</td>\n",
       "      <td>1</td>\n",
       "      <td>USR1004</td>\n",
       "    </tr>\n",
       "    <tr>\n",
       "      <th>4</th>\n",
       "      <td>SNR501MG</td>\n",
       "      <td>JNR1001MG</td>\n",
       "      <td>1/1/2022</td>\n",
       "      <td>1</td>\n",
       "      <td>USR1005</td>\n",
       "    </tr>\n",
       "  </tbody>\n",
       "</table>\n",
       "</div>"
      ],
      "text/plain": [
       "  snr_sm_id  jnr_sm_id assigned_date  cycle  lead_id\n",
       "0  SNR501MG  JNR1001MG      1/1/2022      1  USR1001\n",
       "1  SNR501MG  JNR1001MG      1/1/2022      1  USR1002\n",
       "2  SNR501MG  JNR1001MG      1/1/2022      1  USR1003\n",
       "3  SNR501MG  JNR1001MG      1/1/2022      1  USR1004\n",
       "4  SNR501MG  JNR1001MG      1/1/2022      1  USR1005"
      ]
     },
     "execution_count": 159,
     "metadata": {},
     "output_type": "execute_result"
    }
   ],
   "source": [
    "df5=pd.read_csv(\"C:\\\\Users\\\\Ruhan\\\\OneDrive - Careismatic Brands, Inc\\\\Documents\\\\archive (1)\\\\sales_managers_assigned_leads_details.csv\")\n",
    "df5.head(5)"
   ]
  },
  {
   "cell_type": "code",
   "execution_count": 160,
   "id": "e6078bc0",
   "metadata": {},
   "outputs": [
    {
     "name": "stdout",
     "output_type": "stream",
     "text": [
      "<class 'pandas.core.frame.DataFrame'>\n",
      "RangeIndex: 360 entries, 0 to 359\n",
      "Data columns (total 5 columns):\n",
      " #   Column         Non-Null Count  Dtype \n",
      "---  ------         --------------  ----- \n",
      " 0   snr_sm_id      360 non-null    object\n",
      " 1   jnr_sm_id      360 non-null    object\n",
      " 2   assigned_date  360 non-null    object\n",
      " 3   cycle          360 non-null    int64 \n",
      " 4   lead_id        360 non-null    object\n",
      "dtypes: int64(1), object(4)\n",
      "memory usage: 14.2+ KB\n"
     ]
    }
   ],
   "source": [
    "df5.info()"
   ]
  },
  {
   "cell_type": "code",
   "execution_count": 161,
   "id": "bb82d5b9",
   "metadata": {},
   "outputs": [
    {
     "data": {
      "text/plain": [
       "snr_sm_id        0\n",
       "jnr_sm_id        0\n",
       "assigned_date    0\n",
       "cycle            0\n",
       "lead_id          0\n",
       "dtype: int64"
      ]
     },
     "execution_count": 161,
     "metadata": {},
     "output_type": "execute_result"
    }
   ],
   "source": [
    "df5.isnull().sum()"
   ]
  },
  {
   "cell_type": "code",
   "execution_count": 162,
   "id": "a2577a2c",
   "metadata": {},
   "outputs": [
    {
     "data": {
      "text/plain": [
       "cycle\n",
       "1    94\n",
       "2    91\n",
       "3    87\n",
       "4    88\n",
       "dtype: int64"
      ]
     },
     "execution_count": 162,
     "metadata": {},
     "output_type": "execute_result"
    }
   ],
   "source": [
    "n_con2 = df5.groupby('cycle').size()\n",
    "n_con2\n"
   ]
  },
  {
   "cell_type": "markdown",
   "id": "7f6b8172",
   "metadata": {},
   "source": [
    "# As You can see most used Cycle is 1  27% used and leat used cycle 3 24.17%"
   ]
  },
  {
   "cell_type": "code",
   "execution_count": 163,
   "id": "0d58a0a9",
   "metadata": {},
   "outputs": [
    {
     "data": {
      "image/png": "[encoded data removed]",
      "text/plain": [
       "<Figure size 432x288 with 1 Axes>"
      ]
     },
     "metadata": {},
     "output_type": "display_data"
    }
   ],
   "source": [
    "lead_no_interest= df5.groupby('cycle').size().plot(kind='pie', autopct='%.2f', ylabel='')"
   ]
  },
  {
   "cell_type": "code",
   "execution_count": 165,
   "id": "947e678b",
   "metadata": {},
   "outputs": [
    {
     "data": {
      "text/plain": [
       "array(['SNR501MG', 'SNR502MG', 'SNR503MG', 'SNR504MG'], dtype=object)"
      ]
     },
     "execution_count": 165,
     "metadata": {},
     "output_type": "execute_result"
    }
   ],
   "source": [
    "df5.snr_sm_id.unique()"
   ]
  },
  {
   "cell_type": "markdown",
   "id": "4e6594f6",
   "metadata": {},
   "source": [
    "# Here we have total of 4 senior Managers, Each senior Managers have 80 to 85 junior sales managers."
   ]
  },
  {
   "cell_type": "code",
   "execution_count": 168,
   "id": "0ab365d6",
   "metadata": {},
   "outputs": [
    {
     "data": {
      "image/png": "[encoded data removed]",
      "text/plain": [
       "<Figure size 432x288 with 1 Axes>"
      ]
     },
     "metadata": {
      "needs_background": "light"
     },
     "output_type": "display_data"
    }
   ],
   "source": [
    "hist=sns.histplot(data=df5[\"snr_sm_id\"],bins=4)"
   ]
  },
  {
   "cell_type": "code",
   "execution_count": 175,
   "id": "153af365",
   "metadata": {},
   "outputs": [
    {
     "data": {
      "image/png": "[encoded data removed]",
      "text/plain": [
       "<Figure size 432x288 with 1 Axes>"
      ]
     },
     "metadata": {
      "needs_background": "light"
     },
     "output_type": "display_data"
    }
   ],
   "source": [
    "hist=sns.histplot(data=df5[\"jnr_sm_id\"],kde=False, color='red', bins=17)"
   ]
  }
 ],
 "metadata": {
  "kernelspec": {
   "display_name": "Python 3 (ipykernel)",
   "language": "python",
   "name": "python3"
  },
  "language_info": {
   "codemirror_mode": {
    "name": "ipython",
    "version": 3
   },
   "file_extension": ".py",
   "mimetype": "text/x-python",
   "name": "python",
   "nbconvert_exporter": "python",
   "pygments_lexer": "ipython3",
   "version": "3.9.12"
  }
 },
 "nbformat": 4,
 "nbformat_minor": 5
}
